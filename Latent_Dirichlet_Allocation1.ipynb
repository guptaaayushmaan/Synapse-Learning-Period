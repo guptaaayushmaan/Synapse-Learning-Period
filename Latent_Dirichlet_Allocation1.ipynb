{
  "nbformat": 4,
  "nbformat_minor": 0,
  "metadata": {
    "kernelspec": {
      "display_name": "Python 3",
      "language": "python",
      "name": "python3"
    },
    "language_info": {
      "codemirror_mode": {
        "name": "ipython",
        "version": 3
      },
      "file_extension": ".py",
      "mimetype": "text/x-python",
      "name": "python",
      "nbconvert_exporter": "python",
      "pygments_lexer": "ipython3",
      "version": "3.6.12"
    },
    "colab": {
      "name": "Latent_Dirichlet_Allocation.ipynb",
      "provenance": []
    }
  },
  "cells": [
    {
      "cell_type": "markdown",
      "metadata": {
        "id": "Xk3Swsk8Z-6w"
      },
      "source": [
        "## Latent Dirichlet Allocation ##\n",
        "**Watch these videos:**\n",
        "- https://www.youtube.com/watch?v=azXCzI57Yfc\n",
        "- https://www.youtube.com/watch?v=T05t-SqKArY\n",
        "- https://www.youtube.com/watch?v=BaM1uiCpj_E\n",
        "\n",
        "LDA is used to classify text in a document to a particular topic. It builds a topic per document model and words per topic model, modeled as Dirichlet distributions. \n",
        "\n",
        "* Each document is modeled as a multinomial distribution of topics and each topic is modeled as a multinomial distribution of words.\n",
        "* LDA assumes that the every chunk of text we feed into it will contain words that are somehow related. Therefore choosing the right corpus of data is crucial. \n",
        "* It also assumes documents are produced from a mixture of topics. Those topics then generate words based on their probability distribution. "
      ]
    },
    {
      "cell_type": "markdown",
      "metadata": {
        "id": "AtqnaiZzZ-6x"
      },
      "source": [
        "## Step 1: Load the dataset\n",
        "\n",
        "The dataset we'll use is a list of over one million news headlines published over a period of 15 years. We'll start by loading it from the `abcnews-date-text.csv` file."
      ]
    },
    {
      "cell_type": "code",
      "metadata": {
        "colab": {
          "base_uri": "https://localhost:8080/"
        },
        "id": "YjjINjwSZ-6y",
        "outputId": "0d63b35d-01f1-4e6f-e3ef-2af536c47d23"
      },
      "source": [
        "'''\n",
        "Load the dataset from the CSV and save it to 'data_text'. We only need the'headline_text' column,\n",
        "so drop the rest of the columns. Call the final dataframe \"documents\" \n",
        "Then, add an 'index' column to the dataframe. Be sure to name it index.\n",
        "Hint: dataframe.index\n",
        "'''\n",
        "import pandas as pd\n",
        "data = pd.read_csv('/abcnews-date-text.csv')\n",
        "data_text = data[:300000][['headline_text']]\n",
        "data_text['index'] = data_text.index\n",
        "documents = data_text\n",
        "print(documents['index'])"
      ],
      "execution_count": 2,
      "outputs": [
        {
          "output_type": "stream",
          "name": "stdout",
          "text": [
            "0              0\n",
            "1              1\n",
            "2              2\n",
            "3              3\n",
            "4              4\n",
            "           ...  \n",
            "299995    299995\n",
            "299996    299996\n",
            "299997    299997\n",
            "299998    299998\n",
            "299999    299999\n",
            "Name: index, Length: 300000, dtype: int64\n"
          ]
        }
      ]
    },
    {
      "cell_type": "markdown",
      "metadata": {
        "id": "CIpLzA7YZ-6y"
      },
      "source": [
        "Let's glance at the dataset:"
      ]
    },
    {
      "cell_type": "code",
      "metadata": {
        "colab": {
          "base_uri": "https://localhost:8080/"
        },
        "id": "bFWOeA7CZ-6z",
        "outputId": "300da1a7-5a72-4a4e-865b-0cd1de7581bd"
      },
      "source": [
        "'''\n",
        "print the total number of documents\n",
        "'''\n",
        "print(len(documents))"
      ],
      "execution_count": 3,
      "outputs": [
        {
          "output_type": "stream",
          "name": "stdout",
          "text": [
            "300000\n"
          ]
        }
      ]
    },
    {
      "cell_type": "code",
      "metadata": {
        "colab": {
          "base_uri": "https://localhost:8080/",
          "height": 206
        },
        "id": "Ojnvr4SjZ-6z",
        "outputId": "f402ef60-e81c-4cc3-a214-bd9bcfcab3c4"
      },
      "source": [
        "documents[:5]"
      ],
      "execution_count": 4,
      "outputs": [
        {
          "output_type": "execute_result",
          "data": {
            "text/html": [
              "<div>\n",
              "<style scoped>\n",
              "    .dataframe tbody tr th:only-of-type {\n",
              "        vertical-align: middle;\n",
              "    }\n",
              "\n",
              "    .dataframe tbody tr th {\n",
              "        vertical-align: top;\n",
              "    }\n",
              "\n",
              "    .dataframe thead th {\n",
              "        text-align: right;\n",
              "    }\n",
              "</style>\n",
              "<table border=\"1\" class=\"dataframe\">\n",
              "  <thead>\n",
              "    <tr style=\"text-align: right;\">\n",
              "      <th></th>\n",
              "      <th>headline_text</th>\n",
              "      <th>index</th>\n",
              "    </tr>\n",
              "  </thead>\n",
              "  <tbody>\n",
              "    <tr>\n",
              "      <th>0</th>\n",
              "      <td>aba decides against community broadcasting lic...</td>\n",
              "      <td>0</td>\n",
              "    </tr>\n",
              "    <tr>\n",
              "      <th>1</th>\n",
              "      <td>act fire witnesses must be aware of defamation</td>\n",
              "      <td>1</td>\n",
              "    </tr>\n",
              "    <tr>\n",
              "      <th>2</th>\n",
              "      <td>a g calls for infrastructure protection summit</td>\n",
              "      <td>2</td>\n",
              "    </tr>\n",
              "    <tr>\n",
              "      <th>3</th>\n",
              "      <td>air nz staff in aust strike for pay rise</td>\n",
              "      <td>3</td>\n",
              "    </tr>\n",
              "    <tr>\n",
              "      <th>4</th>\n",
              "      <td>air nz strike to affect australian travellers</td>\n",
              "      <td>4</td>\n",
              "    </tr>\n",
              "  </tbody>\n",
              "</table>\n",
              "</div>"
            ],
            "text/plain": [
              "                                       headline_text  index\n",
              "0  aba decides against community broadcasting lic...      0\n",
              "1     act fire witnesses must be aware of defamation      1\n",
              "2     a g calls for infrastructure protection summit      2\n",
              "3           air nz staff in aust strike for pay rise      3\n",
              "4      air nz strike to affect australian travellers      4"
            ]
          },
          "metadata": {},
          "execution_count": 4
        }
      ]
    },
    {
      "cell_type": "markdown",
      "metadata": {
        "id": "2JVEX5zwZ-6z"
      },
      "source": [
        "## Step 2: Data Preprocessing ##\n",
        "\n",
        "We will perform the following steps:\n",
        "\n",
        "* **Tokenization**: Split the text into sentences and the sentences into words. Lowercase the words and remove punctuation.\n",
        "* Words that have fewer than 3 characters are removed.\n",
        "* All **stopwords** are removed.\n",
        "* Words are **lemmatized** - words in third person are changed to first person and verbs in past and future tenses are changed into present.\n",
        "* Words are **stemmed** - words are reduced to their root form.\n",
        "\n",
        "This time, we'll make use of the gensim library and show you how  to preprocess text easily. "
      ]
    },
    {
      "cell_type": "code",
      "metadata": {
        "id": "JPPZN9gIZ-6z"
      },
      "source": [
        "'''\n",
        "Loading Gensim and nltk libraries\n",
        "'''\n",
        "# pip install gensim\n",
        "import gensim\n",
        "from gensim.utils import simple_preprocess\n",
        "from gensim.parsing.preprocessing import STOPWORDS\n",
        "from nltk.stem import WordNetLemmatizer, SnowballStemmer\n",
        "from nltk.stem.porter import *\n",
        "import numpy as np\n",
        "np.random.seed(400)"
      ],
      "execution_count": 5,
      "outputs": []
    },
    {
      "cell_type": "code",
      "metadata": {
        "colab": {
          "base_uri": "https://localhost:8080/"
        },
        "id": "thuToobfZ-60",
        "outputId": "836e78f5-718b-44c4-9937-a790b86a9e8f"
      },
      "source": [
        "import nltk\n",
        "nltk.download('wordnet')"
      ],
      "execution_count": 6,
      "outputs": [
        {
          "output_type": "stream",
          "name": "stdout",
          "text": [
            "[nltk_data] Downloading package wordnet to /root/nltk_data...\n",
            "[nltk_data]   Unzipping corpora/wordnet.zip.\n"
          ]
        },
        {
          "output_type": "execute_result",
          "data": {
            "text/plain": [
              "True"
            ]
          },
          "metadata": {},
          "execution_count": 6
        }
      ]
    },
    {
      "cell_type": "markdown",
      "metadata": {
        "id": "VuRUZFJxZ-60"
      },
      "source": [
        "### Lemmatizer Example\n",
        "Before preprocessing our dataset, let's first look at an lemmatizing example. What would be the output if we lemmatized the word 'went':"
      ]
    },
    {
      "cell_type": "code",
      "metadata": {
        "colab": {
          "base_uri": "https://localhost:8080/"
        },
        "id": "0XgOAAh2Z-60",
        "outputId": "7ec60023-90bb-4a1a-80db-d4f34f1fd08a"
      },
      "source": [
        "print(WordNetLemmatizer().lemmatize('went', pos = 'v')) # past tense to present tense"
      ],
      "execution_count": 7,
      "outputs": [
        {
          "output_type": "stream",
          "name": "stdout",
          "text": [
            "go\n"
          ]
        }
      ]
    },
    {
      "cell_type": "markdown",
      "metadata": {
        "id": "FInLPxdtZ-60"
      },
      "source": [
        "### Stemmer Example\n",
        "Let's also look at a stemming example. Let's throw a number of words at the stemmer and see how it deals with each one:"
      ]
    },
    {
      "cell_type": "code",
      "metadata": {
        "colab": {
          "base_uri": "https://localhost:8080/",
          "height": 645
        },
        "id": "WMVnUCBwZ-60",
        "outputId": "2b2e90cb-2fd1-41b8-89d1-ad8261a725e4"
      },
      "source": [
        "stemmer = SnowballStemmer(\"english\")\n",
        "original_words = ['caresses', 'flies', 'dies', 'mules', 'denied','died', 'agreed', 'owned', \n",
        "           'humbled', 'sized','meeting', 'stating', 'siezing', 'itemization','sensational', \n",
        "           'traditional', 'reference', 'colonizer','plotted']\n",
        "singles = [stemmer.stem(plural) for plural in original_words]\n",
        "\n",
        "pd.DataFrame(data={'original word':original_words, 'stemmed':singles })"
      ],
      "execution_count": 8,
      "outputs": [
        {
          "output_type": "execute_result",
          "data": {
            "text/html": [
              "<div>\n",
              "<style scoped>\n",
              "    .dataframe tbody tr th:only-of-type {\n",
              "        vertical-align: middle;\n",
              "    }\n",
              "\n",
              "    .dataframe tbody tr th {\n",
              "        vertical-align: top;\n",
              "    }\n",
              "\n",
              "    .dataframe thead th {\n",
              "        text-align: right;\n",
              "    }\n",
              "</style>\n",
              "<table border=\"1\" class=\"dataframe\">\n",
              "  <thead>\n",
              "    <tr style=\"text-align: right;\">\n",
              "      <th></th>\n",
              "      <th>original word</th>\n",
              "      <th>stemmed</th>\n",
              "    </tr>\n",
              "  </thead>\n",
              "  <tbody>\n",
              "    <tr>\n",
              "      <th>0</th>\n",
              "      <td>caresses</td>\n",
              "      <td>caress</td>\n",
              "    </tr>\n",
              "    <tr>\n",
              "      <th>1</th>\n",
              "      <td>flies</td>\n",
              "      <td>fli</td>\n",
              "    </tr>\n",
              "    <tr>\n",
              "      <th>2</th>\n",
              "      <td>dies</td>\n",
              "      <td>die</td>\n",
              "    </tr>\n",
              "    <tr>\n",
              "      <th>3</th>\n",
              "      <td>mules</td>\n",
              "      <td>mule</td>\n",
              "    </tr>\n",
              "    <tr>\n",
              "      <th>4</th>\n",
              "      <td>denied</td>\n",
              "      <td>deni</td>\n",
              "    </tr>\n",
              "    <tr>\n",
              "      <th>5</th>\n",
              "      <td>died</td>\n",
              "      <td>die</td>\n",
              "    </tr>\n",
              "    <tr>\n",
              "      <th>6</th>\n",
              "      <td>agreed</td>\n",
              "      <td>agre</td>\n",
              "    </tr>\n",
              "    <tr>\n",
              "      <th>7</th>\n",
              "      <td>owned</td>\n",
              "      <td>own</td>\n",
              "    </tr>\n",
              "    <tr>\n",
              "      <th>8</th>\n",
              "      <td>humbled</td>\n",
              "      <td>humbl</td>\n",
              "    </tr>\n",
              "    <tr>\n",
              "      <th>9</th>\n",
              "      <td>sized</td>\n",
              "      <td>size</td>\n",
              "    </tr>\n",
              "    <tr>\n",
              "      <th>10</th>\n",
              "      <td>meeting</td>\n",
              "      <td>meet</td>\n",
              "    </tr>\n",
              "    <tr>\n",
              "      <th>11</th>\n",
              "      <td>stating</td>\n",
              "      <td>state</td>\n",
              "    </tr>\n",
              "    <tr>\n",
              "      <th>12</th>\n",
              "      <td>siezing</td>\n",
              "      <td>siez</td>\n",
              "    </tr>\n",
              "    <tr>\n",
              "      <th>13</th>\n",
              "      <td>itemization</td>\n",
              "      <td>item</td>\n",
              "    </tr>\n",
              "    <tr>\n",
              "      <th>14</th>\n",
              "      <td>sensational</td>\n",
              "      <td>sensat</td>\n",
              "    </tr>\n",
              "    <tr>\n",
              "      <th>15</th>\n",
              "      <td>traditional</td>\n",
              "      <td>tradit</td>\n",
              "    </tr>\n",
              "    <tr>\n",
              "      <th>16</th>\n",
              "      <td>reference</td>\n",
              "      <td>refer</td>\n",
              "    </tr>\n",
              "    <tr>\n",
              "      <th>17</th>\n",
              "      <td>colonizer</td>\n",
              "      <td>colon</td>\n",
              "    </tr>\n",
              "    <tr>\n",
              "      <th>18</th>\n",
              "      <td>plotted</td>\n",
              "      <td>plot</td>\n",
              "    </tr>\n",
              "  </tbody>\n",
              "</table>\n",
              "</div>"
            ],
            "text/plain": [
              "   original word stemmed\n",
              "0       caresses  caress\n",
              "1          flies     fli\n",
              "2           dies     die\n",
              "3          mules    mule\n",
              "4         denied    deni\n",
              "5           died     die\n",
              "6         agreed    agre\n",
              "7          owned     own\n",
              "8        humbled   humbl\n",
              "9          sized    size\n",
              "10       meeting    meet\n",
              "11       stating   state\n",
              "12       siezing    siez\n",
              "13   itemization    item\n",
              "14   sensational  sensat\n",
              "15   traditional  tradit\n",
              "16     reference   refer\n",
              "17     colonizer   colon\n",
              "18       plotted    plot"
            ]
          },
          "metadata": {},
          "execution_count": 8
        }
      ]
    },
    {
      "cell_type": "code",
      "metadata": {
        "id": "nyzPTcBFZ-61"
      },
      "source": [
        "'''\n",
        "Write a function to perform the pre processing steps on the entire dataset\n",
        "'''\n",
        "def lemmatize_stemming(text):\n",
        "    '''\n",
        "        1) Lemmatize the text\n",
        "        2) Then, stem the text\n",
        "        3) return final text\n",
        "    '''\n",
        "    pass\n",
        "\n",
        "\n",
        "\n",
        "# Tokenize and lemmatize. Look up how preprocessing is being done\n",
        "def preprocess(text):\n",
        "    result=[]\n",
        "    for token in gensim.utils.simple_preprocess(text) :\n",
        "        if token not in gensim.parsing.preprocessing.STOPWORDS and len(token) > 3:\n",
        "            \n",
        "            # TODO: Apply lemmatize_stemming on the token, then add to the results list\n",
        "            pass\n",
        "        \n",
        "        \n",
        "    return result"
      ],
      "execution_count": 9,
      "outputs": []
    },
    {
      "cell_type": "code",
      "metadata": {
        "colab": {
          "base_uri": "https://localhost:8080/"
        },
        "id": "0D8CBPXDZ-61",
        "outputId": "148852b0-001a-4f21-b86a-aafd2554cf46"
      },
      "source": [
        "'''\n",
        "Preview a document after preprocessing\n",
        "'''\n",
        "document_num = 4310\n",
        "doc_sample = documents[documents['index'] == document_num].values[0][0]\n",
        "\n",
        "print(\"Original document: \")\n",
        "words = []\n",
        "for word in doc_sample.split(' '):\n",
        "    words.append(word)\n",
        "print(words)\n",
        "print(\"\\n\\nTokenized and lemmatized document: \")\n",
        "print(preprocess(doc_sample))"
      ],
      "execution_count": 10,
      "outputs": [
        {
          "output_type": "stream",
          "name": "stdout",
          "text": [
            "Original document: \n",
            "['rain', 'helps', 'dampen', 'bushfires']\n",
            "\n",
            "\n",
            "Tokenized and lemmatized document: \n",
            "[]\n"
          ]
        }
      ]
    },
    {
      "cell_type": "markdown",
      "metadata": {
        "id": "3YQ_8J_GZ-61"
      },
      "source": [
        "Let's now preprocess all the news headlines we have. To do that, let's use the [map](https://pandas.pydata.org/pandas-docs/stable/generated/pandas.Series.map.html) function from pandas to apply `preprocess()` to the `headline_text` column\n",
        "\n",
        "**Note**: This may take a few minutes"
      ]
    },
    {
      "cell_type": "code",
      "metadata": {
        "id": "Hens5W2RZ-61"
      },
      "source": [
        "# TODO: preprocess all the headlines, saving the list of results as 'processed_docs'\n",
        "processed_docs = documents['headline_text'].map(preprocess)"
      ],
      "execution_count": 11,
      "outputs": []
    },
    {
      "cell_type": "code",
      "metadata": {
        "colab": {
          "base_uri": "https://localhost:8080/"
        },
        "id": "xs13eeExZ-61",
        "outputId": "cd6353d1-6a96-4bd3-a03e-6e4f7340b10a"
      },
      "source": [
        "'''\n",
        "Preview 'processed_docs'\n",
        "'''\n",
        "processed_docs[:10]"
      ],
      "execution_count": 12,
      "outputs": [
        {
          "output_type": "execute_result",
          "data": {
            "text/plain": [
              "0    []\n",
              "1    []\n",
              "2    []\n",
              "3    []\n",
              "4    []\n",
              "5    []\n",
              "6    []\n",
              "7    []\n",
              "8    []\n",
              "9    []\n",
              "Name: headline_text, dtype: object"
            ]
          },
          "metadata": {},
          "execution_count": 12
        }
      ]
    },
    {
      "cell_type": "markdown",
      "metadata": {
        "id": "b6ZmQ_F3Z-61"
      },
      "source": [
        "## Step 3.1: Bag of words on the dataset\n",
        "\n",
        "Now let's create a dictionary from 'processed_docs' containing the number of times a word appears in the training set. To do that, let's pass `processed_docs` to [`gensim.corpora.Dictionary()`](https://radimrehurek.com/gensim/corpora/dictionary.html) and call it '`dictionary`'."
      ]
    },
    {
      "cell_type": "code",
      "metadata": {
        "id": "NuCAmt-qZ-62"
      },
      "source": [
        "'''\n",
        "Create a dictionary from 'processed_docs' containing the number of times a word appears \n",
        "in the training set using gensim.corpora.Dictionary and call it 'dictionary'\n",
        "'''\n",
        "#  Todo\n",
        "dictionary = gensim.corpora.Dictionary(processed_docs)"
      ],
      "execution_count": 13,
      "outputs": []
    },
    {
      "cell_type": "code",
      "metadata": {
        "id": "cS51I6cFZ-62"
      },
      "source": [
        "'''\n",
        "Checking dictionary created\n",
        "'''\n",
        "count = 0\n",
        "for k, v in dictionary.iteritems():\n",
        "    print(k, v)\n",
        "    count += 1\n",
        "    if count > 10:\n",
        "        break"
      ],
      "execution_count": 14,
      "outputs": []
    },
    {
      "cell_type": "markdown",
      "metadata": {
        "id": "THXcGTs1Z-62"
      },
      "source": [
        "** Gensim filter_extremes **\n",
        "\n",
        "[`filter_extremes(no_below=5, no_above=0.5, keep_n=100000)`](https://radimrehurek.com/gensim/corpora/dictionary.html#gensim.corpora.dictionary.Dictionary.filter_extremes)\n",
        "\n",
        "Filter out tokens that appear in\n",
        "\n",
        "* less than no_below documents (absolute number) or\n",
        "* more than no_above documents (fraction of total corpus size, not absolute number).\n",
        "* after (1) and (2), keep only the first keep_n most frequent tokens (or keep all if None)."
      ]
    },
    {
      "cell_type": "code",
      "metadata": {
        "id": "2wFW1W2HZ-62"
      },
      "source": [
        "'''\n",
        "Remove very rare and very common words:\n",
        "\n",
        "- words appearing less than 15 times\n",
        "- words appearing in more than 10% of all documents\n",
        "- keep 100000 most frequent tokens\n",
        "'''\n",
        "# TODO: apply dictionary.filter_extremes() with the parameters mentioned above\n",
        "dictionary.filter_extremes(no_below=15, no_above=0.1, keep_n=100000)"
      ],
      "execution_count": 15,
      "outputs": []
    },
    {
      "cell_type": "markdown",
      "metadata": {
        "id": "Sfr1oaGaZ-63"
      },
      "source": [
        "** Gensim doc2bow **\n",
        "\n",
        "[`doc2bow(document)`](https://radimrehurek.com/gensim/corpora/dictionary.html#gensim.corpora.dictionary.Dictionary.doc2bow)\n",
        "\n",
        "* Convert document (a list of words) into the bag-of-words format = list of (token_id, token_count) 2-tuples. Each word is assumed to be a tokenized and normalized string (either unicode or utf8-encoded). No further preprocessing is done on the words in document; apply tokenization, stemming etc. before calling this method."
      ]
    },
    {
      "cell_type": "code",
      "metadata": {
        "id": "QywuCesfZ-63"
      },
      "source": [
        "'''\n",
        "Create the Bag-of-words model for each document i.e for each document we create a dictionary reporting how many\n",
        "words and how many times those words appear. Save this to 'bow_corpus'.\n",
        "Hint: Since we want a BoW model for each document, you can use list comprehension instead of for loops. List\n",
        "comprehension is the more pythonic way.\n",
        "'''\n",
        "#  Todo:\n"
      ],
      "execution_count": null,
      "outputs": []
    },
    {
      "cell_type": "code",
      "metadata": {
        "id": "DPva9czbZ-63"
      },
      "source": [
        "'''\n",
        "Checking Bag of Words corpus for our sample document --> (token_id, token_count)\n",
        "'''\n",
        "bow_corpus[document_num]"
      ],
      "execution_count": null,
      "outputs": []
    },
    {
      "cell_type": "code",
      "metadata": {
        "id": "gNOOaXtwZ-63"
      },
      "source": [
        "'''\n",
        "Preview BOW for our sample preprocessed document\n",
        "'''\n",
        "# Here document_num is document number 4310 which we have checked in Step 2\n",
        "bow_doc_4310 = bow_corpus[document_num]\n",
        "\n",
        "for i in range(len(bow_doc_4310)):\n",
        "    print(\"Word {} (\\\"{}\\\") appears {} time.\".format(bow_doc_4310[i][0], \n",
        "                                                     dictionary[bow_doc_4310[i][0]], \n",
        "                                                     bow_doc_4310[i][1]))"
      ],
      "execution_count": null,
      "outputs": []
    },
    {
      "cell_type": "markdown",
      "metadata": {
        "id": "TnrNVQpqZ-63"
      },
      "source": [
        "## Step 3.2: TF-IDF on our document set ##\n",
        "\n",
        "While performing TF-IDF on the corpus is not necessary for LDA implemention using the gensim model, it is recemmended. TF-IDF expects a bag-of-words (integer values) training corpus during initialization. During transformation, it will take a vector and return another vector of the same dimensionality.\n",
        "\n",
        "*Please note: The author of Gensim dictates the standard procedure for LDA to be using the Bag of Words model.*"
      ]
    },
    {
      "cell_type": "markdown",
      "metadata": {
        "id": "CKAj-fEbZ-63"
      },
      "source": [
        "** TF-IDF stands for \"Term Frequency, Inverse Document Frequency\".**\n",
        "\n",
        "* It is a way to score the importance of words (or \"terms\") in a document based on how frequently they appear across multiple documents.\n",
        "* If a word appears frequently in a document, it's important. Give the word a high score. But if a word appears in many documents, it's not a unique identifier. Give the word a low score.\n",
        "* Therefore, common words like \"the\" and \"for\", which appear in many documents, will be scaled down. Words that appear frequently in a single document will be scaled up.\n",
        "\n",
        "In other words:\n",
        "\n",
        "* TF(w) = `(Number of times term w appears in a document) / (Total number of terms in the document)`.\n",
        "* IDF(w) = `log_e(Total number of documents / Number of documents with term w in it)`.\n",
        "\n",
        "** For example **\n",
        "\n",
        "* Consider a document containing `100` words wherein the word 'tiger' appears 3 times. \n",
        "* The term frequency (i.e., tf) for 'tiger' is then: \n",
        "    - `TF = (3 / 100) = 0.03`. \n",
        "\n",
        "* Now, assume we have `10 million` documents and the word 'tiger' appears in `1000` of these. Then, the inverse document frequency (i.e., idf) is calculated as:\n",
        "    - `IDF = log(10,000,000 / 1,000) = 4`. \n",
        "\n",
        "* Thus, the Tf-idf weight is the product of these quantities: \n",
        "    - `TF-IDF = 0.03 * 4 = 0.12`."
      ]
    },
    {
      "cell_type": "code",
      "metadata": {
        "id": "daXvRZZxZ-63"
      },
      "source": [
        "'''\n",
        "Create tf-idf model object using models.TfidfModel on 'bow_corpus' and save it to 'tfidf'\n",
        "'''\n",
        "from gensim import corpora, models\n",
        "# TODO\n"
      ],
      "execution_count": null,
      "outputs": []
    },
    {
      "cell_type": "code",
      "metadata": {
        "id": "cTAddO8XZ-63"
      },
      "source": [
        "'''\n",
        "Apply transformation to the entire corpus and call it 'corpus_tfidf'\n",
        "'''\n",
        "# TODO\n"
      ],
      "execution_count": null,
      "outputs": []
    },
    {
      "cell_type": "code",
      "metadata": {
        "id": "8XN64a75Z-63"
      },
      "source": [
        "'''\n",
        "Preview TF-IDF scores for our first document --> --> (token_id, tfidf score)\n",
        "'''\n",
        "from pprint import pprint\n",
        "for doc in corpus_tfidf:\n",
        "    pprint(doc)\n",
        "    break"
      ],
      "execution_count": null,
      "outputs": []
    },
    {
      "cell_type": "markdown",
      "metadata": {
        "id": "JFunGc3tZ-64"
      },
      "source": [
        "## Step 4.1: Running LDA using Bag of Words ##\n",
        "\n",
        "We are going for 10 topics in the document corpus.\n",
        "\n",
        "** We will be running LDA using all CPU cores to parallelize and speed up model training.**\n",
        "\n",
        "Some of the parameters we will be tweaking are:\n",
        "\n",
        "* **num_topics** is the number of requested latent topics to be extracted from the training corpus.\n",
        "* **id2word** is a mapping from word ids (integers) to words (strings). It is used to determine the vocabulary size, as well as for debugging and topic printing.\n",
        "* **workers** is the number of extra processes to use for parallelization. Uses all available cores by default.\n",
        "* **alpha** and **eta** are hyperparameters that affect sparsity of the document-topic (theta) and topic-word (lambda) distributions. We will let these be the default values for now(default value is `1/num_topics`)\n",
        "    - Alpha is the per document topic distribution.\n",
        "        * High alpha: Every document has a mixture of all topics(documents appear similar to each other).\n",
        "        * Low alpha: Every document has a mixture of very few topics\n",
        "\n",
        "    - Eta is the per topic word distribution.\n",
        "        * High eta: Each topic has a mixture of most words(topics appear similar to each other).\n",
        "        * Low eta: Each topic has a mixture of few words.\n",
        "\n",
        "* ** passes ** is the number of training passes through the corpus. For  example, if the training corpus has 50,000 documents, chunksize is  10,000, passes is 2, then online training is done in 10 updates: \n",
        "    * `#1 documents 0-9,999 `\n",
        "    * `#2 documents 10,000-19,999 `\n",
        "    * `#3 documents 20,000-29,999 `\n",
        "    * `#4 documents 30,000-39,999 `\n",
        "    * `#5 documents 40,000-49,999 `\n",
        "    * `#6 documents 0-9,999 `\n",
        "    * `#7 documents 10,000-19,999 `\n",
        "    * `#8 documents 20,000-29,999 `\n",
        "    * `#9 documents 30,000-39,999 `\n",
        "    * `#10 documents 40,000-49,999` "
      ]
    },
    {
      "cell_type": "code",
      "metadata": {
        "id": "IHAFe_0bZ-64"
      },
      "source": [
        "# LDA multicore \n",
        "'''\n",
        "Train your lda model using gensim.models.LdaMulticore and save it to 'lda_model'\n",
        "\n",
        "If Multicore is throwing errors on you laptop, use LDA mono-core, gensim.models.LdaModel\n",
        "'''\n",
        "# TODO"
      ],
      "execution_count": null,
      "outputs": []
    },
    {
      "cell_type": "code",
      "metadata": {
        "id": "YC1pGhA9Z-64"
      },
      "source": [
        "'''\n",
        "For each topic, we will explore the words occuring in that topic and its relative weight\n",
        "'''\n",
        "for idx, topic in lda_model.print_topics(-1):\n",
        "    print(\"Topic: {} \\nWords: {}\".format(idx, topic))\n",
        "    print(\"\\n\")"
      ],
      "execution_count": null,
      "outputs": []
    },
    {
      "cell_type": "markdown",
      "metadata": {
        "id": "TTXll7roZ-64"
      },
      "source": [
        "### Classification of the topics ###\n",
        "\n",
        "Using the words in each topic and their corresponding weights, what categories were you able to infer?\n",
        "\n",
        "* 0: \n",
        "* 1: \n",
        "* 2: \n",
        "* 3: \n",
        "* 4: \n",
        "* 5: \n",
        "* 6: \n",
        "* 7:  \n",
        "* 8: \n",
        "* 9: "
      ]
    },
    {
      "cell_type": "markdown",
      "metadata": {
        "id": "z15G_Xr6Z-64"
      },
      "source": [
        "## Step 4.2 Running LDA using TF-IDF ##"
      ]
    },
    {
      "cell_type": "code",
      "metadata": {
        "id": "h1GKhKR3Z-64"
      },
      "source": [
        "'''\n",
        "Define lda model using corpus_tfidf\n",
        "'''\n",
        "# TODO\n"
      ],
      "execution_count": null,
      "outputs": []
    },
    {
      "cell_type": "code",
      "metadata": {
        "id": "ZwElmLUvZ-64"
      },
      "source": [
        "'''\n",
        "For each topic, we will explore the words occuring in that topic and its relative weight\n",
        "'''\n",
        "for idx, topic in lda_model_tfidf.print_topics(-1):\n",
        "    print(\"Topic: {} Word: {}\".format(idx, topic))\n",
        "    print(\"\\n\")"
      ],
      "execution_count": null,
      "outputs": []
    },
    {
      "cell_type": "markdown",
      "metadata": {
        "id": "MMQxVuDUZ-64"
      },
      "source": [
        "### Classification of the topics ###\n",
        "\n",
        "As we can see, when using tf-idf, heavier weights are given to words that are not as frequent which results in nouns being factored in. That makes it harder to figure out the categories as nouns can be hard to categorize. This goes to show that the models we apply depend on the type of corpus of text we are dealing with. \n",
        "\n",
        "Using the words in each topic and their corresponding weights, what categories could you find?\n",
        "\n",
        "* 0: \n",
        "* 1:  \n",
        "* 2: \n",
        "* 3: \n",
        "* 4:  \n",
        "* 5: \n",
        "* 6: \n",
        "* 7: \n",
        "* 8: \n",
        "* 9: "
      ]
    },
    {
      "cell_type": "markdown",
      "metadata": {
        "id": "eGiw_gJCZ-64"
      },
      "source": [
        "## Step 5.1: Performance evaluation by classifying sample document using LDA Bag of Words model\n",
        "\n",
        "We will check to see where our test document would be classified. "
      ]
    },
    {
      "cell_type": "code",
      "metadata": {
        "id": "L9IqDMgcZ-64"
      },
      "source": [
        "'''\n",
        "Text of sample document 4310\n",
        "'''\n",
        "processed_docs[4310]"
      ],
      "execution_count": null,
      "outputs": []
    },
    {
      "cell_type": "code",
      "metadata": {
        "id": "kbi1KVU8Z-65"
      },
      "source": [
        "'''\n",
        "Check which topic our test document belongs to using the LDA Bag of Words model.\n",
        "'''\n",
        "\n",
        "# Our test document is document number 4310\n",
        "for index, score in sorted(lda_model[bow_corpus[document_num]], key=lambda tup: -1*tup[1]):\n",
        "    print(\"\\nScore: {}\\t \\nTopic: {}\".format(score, lda_model.print_topic(index, 10)))"
      ],
      "execution_count": null,
      "outputs": []
    },
    {
      "cell_type": "markdown",
      "metadata": {
        "id": "Kr01frNsZ-65"
      },
      "source": [
        "## Step 5.2: Performance evaluation by classifying sample document using LDA TF-IDF model"
      ]
    },
    {
      "cell_type": "code",
      "metadata": {
        "id": "mHC77z6mZ-65"
      },
      "source": [
        "'''\n",
        "Check which topic our test document belongs to using the LDA TF-IDF model.\n",
        "Code would be similar to above\n",
        "'''\n",
        "# Todo"
      ],
      "execution_count": null,
      "outputs": []
    },
    {
      "cell_type": "markdown",
      "metadata": {
        "id": "AUGeiLd0Z-65"
      },
      "source": [
        "## Step 6: Testing model on unseen document ##"
      ]
    },
    {
      "cell_type": "code",
      "metadata": {
        "id": "OnBubpjGZ-65"
      },
      "source": [
        "unseen_document = \"My favorite sports activities are running and swimming.\"\n",
        "\n",
        "# Data preprocessing step for the unseen document\n",
        "bow_vector = dictionary.doc2bow(preprocess(unseen_document))\n",
        "\n",
        "for index, score in sorted(lda_model[bow_vector], key=lambda tup: -1*tup[1]):\n",
        "    print(\"Score: {}\\t Topic: {}\".format(score, lda_model.print_topic(index, 5)))"
      ],
      "execution_count": null,
      "outputs": []
    },
    {
      "cell_type": "markdown",
      "metadata": {
        "id": "FngB7vUzZ-65"
      },
      "source": [
        "### Now, look up different ways we can transform our words or use different techniques or improvements that we can make to make our Topic Classifier more accurate. Write them down below:"
      ]
    },
    {
      "cell_type": "markdown",
      "metadata": {
        "id": "nrIsHRCaZ-65"
      },
      "source": [
        "**We can:**\n",
        "- Append points here\n",
        "- "
      ]
    }
  ]
}