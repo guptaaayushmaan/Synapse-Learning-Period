{
  "nbformat": 4,
  "nbformat_minor": 0,
  "metadata": {
    "anaconda-cloud": {},
    "kernelspec": {
      "display_name": "Python 3",
      "language": "python",
      "name": "python3"
    },
    "language_info": {
      "codemirror_mode": {
        "name": "ipython",
        "version": 3
      },
      "file_extension": ".py",
      "mimetype": "text/x-python",
      "name": "python",
      "nbconvert_exporter": "python",
      "pygments_lexer": "ipython3",
      "version": "3.6.12"
    },
    "colab": {
      "name": "Tasksentiment_rating_rnn.ipynb",
      "provenance": []
    }
  },
  "cells": [
    {
      "cell_type": "markdown",
      "metadata": {
        "id": "I3jLDmiCyumw"
      },
      "source": [
        "# <font color='#6629b2'>Predicting sentiment ratings with RNN using Keras</font>\n"
      ]
    },
    {
      "cell_type": "markdown",
      "metadata": {
        "id": "6JF7aZRIyumz"
      },
      "source": [
        "## <font color='#6629b2'>Study Material</font>\n",
        "- https://web.stanford.edu/~jurafsky/slp3/9.pdf\n",
        "- https://www.youtube.com/watch?v=UNmqTiOnRfg\n",
        "- https://www.youtube.com/watch?v=WCUNPb-5EYI\n",
        "- https://www.youtube.com/watch?v=OuYtk9Ymut4"
      ]
    },
    {
      "cell_type": "markdown",
      "metadata": {
        "id": "tuRZ4NF2yum0"
      },
      "source": [
        "## <font color='#6629b2'>Dataset</font>\n",
        "\n",
        "The Large Movie Review Datasetconsists of 50,000 movie reviews from [IMDB](http://www.imdb.com/). The ratings are on a 1-10 scale, but the dataset specifically contains \"polarized\" reviews: positive reviews with a rating of 7 or higher, and negative reviews with a rating of 4 or lower. There are an equal number of positive and negative reviews. \n",
        "\n",
        "You can download the dataset from: https://www.kaggle.com/lakshmi25npathi/imdb-dataset-of-50k-movie-reviews"
      ]
    },
    {
      "cell_type": "code",
      "metadata": {
        "colab": {
          "base_uri": "https://localhost:8080/",
          "height": 423
        },
        "id": "6zQ0BFcVyum0",
        "outputId": "459b8921-a5cf-49c8-eecf-2489cf4d7297"
      },
      "source": [
        "'''Load the dataset into variable \"reviews\". You can truncate the dataset to keep a few hundred records if it's\n",
        "    taking too long to process/train. Keep in mind, bigger the dataset, higher the accuracy score!\n",
        "'''\n",
        "import pandas\n",
        "reviews = pandas.read_csv('/IMDB Dataset.csv', encoding='utf-8',nrows=1000)\n",
        "\n",
        "\n",
        "reviews"
      ],
      "execution_count": 1,
      "outputs": [
        {
          "output_type": "execute_result",
          "data": {
            "text/html": [
              "<div>\n",
              "<style scoped>\n",
              "    .dataframe tbody tr th:only-of-type {\n",
              "        vertical-align: middle;\n",
              "    }\n",
              "\n",
              "    .dataframe tbody tr th {\n",
              "        vertical-align: top;\n",
              "    }\n",
              "\n",
              "    .dataframe thead th {\n",
              "        text-align: right;\n",
              "    }\n",
              "</style>\n",
              "<table border=\"1\" class=\"dataframe\">\n",
              "  <thead>\n",
              "    <tr style=\"text-align: right;\">\n",
              "      <th></th>\n",
              "      <th>review</th>\n",
              "      <th>sentiment</th>\n",
              "    </tr>\n",
              "  </thead>\n",
              "  <tbody>\n",
              "    <tr>\n",
              "      <th>0</th>\n",
              "      <td>One of the other reviewers has mentioned that ...</td>\n",
              "      <td>positive</td>\n",
              "    </tr>\n",
              "    <tr>\n",
              "      <th>1</th>\n",
              "      <td>A wonderful little production. &lt;br /&gt;&lt;br /&gt;The...</td>\n",
              "      <td>positive</td>\n",
              "    </tr>\n",
              "    <tr>\n",
              "      <th>2</th>\n",
              "      <td>I thought this was a wonderful way to spend ti...</td>\n",
              "      <td>positive</td>\n",
              "    </tr>\n",
              "    <tr>\n",
              "      <th>3</th>\n",
              "      <td>Basically there's a family where a little boy ...</td>\n",
              "      <td>negative</td>\n",
              "    </tr>\n",
              "    <tr>\n",
              "      <th>4</th>\n",
              "      <td>Petter Mattei's \"Love in the Time of Money\" is...</td>\n",
              "      <td>positive</td>\n",
              "    </tr>\n",
              "    <tr>\n",
              "      <th>...</th>\n",
              "      <td>...</td>\n",
              "      <td>...</td>\n",
              "    </tr>\n",
              "    <tr>\n",
              "      <th>995</th>\n",
              "      <td>Nothing is sacred. Just ask Ernie Fosselius. T...</td>\n",
              "      <td>positive</td>\n",
              "    </tr>\n",
              "    <tr>\n",
              "      <th>996</th>\n",
              "      <td>I hated it. I hate self-aware pretentious inan...</td>\n",
              "      <td>negative</td>\n",
              "    </tr>\n",
              "    <tr>\n",
              "      <th>997</th>\n",
              "      <td>I usually try to be professional and construct...</td>\n",
              "      <td>negative</td>\n",
              "    </tr>\n",
              "    <tr>\n",
              "      <th>998</th>\n",
              "      <td>If you like me is going to see this in a film ...</td>\n",
              "      <td>negative</td>\n",
              "    </tr>\n",
              "    <tr>\n",
              "      <th>999</th>\n",
              "      <td>This is like a zoology textbook, given that it...</td>\n",
              "      <td>negative</td>\n",
              "    </tr>\n",
              "  </tbody>\n",
              "</table>\n",
              "<p>1000 rows × 2 columns</p>\n",
              "</div>"
            ],
            "text/plain": [
              "                                                review sentiment\n",
              "0    One of the other reviewers has mentioned that ...  positive\n",
              "1    A wonderful little production. <br /><br />The...  positive\n",
              "2    I thought this was a wonderful way to spend ti...  positive\n",
              "3    Basically there's a family where a little boy ...  negative\n",
              "4    Petter Mattei's \"Love in the Time of Money\" is...  positive\n",
              "..                                                 ...       ...\n",
              "995  Nothing is sacred. Just ask Ernie Fosselius. T...  positive\n",
              "996  I hated it. I hate self-aware pretentious inan...  negative\n",
              "997  I usually try to be professional and construct...  negative\n",
              "998  If you like me is going to see this in a film ...  negative\n",
              "999  This is like a zoology textbook, given that it...  negative\n",
              "\n",
              "[1000 rows x 2 columns]"
            ]
          },
          "metadata": {},
          "execution_count": 1
        }
      ]
    },
    {
      "cell_type": "code",
      "metadata": {
        "id": "ci0GdEBxyum1"
      },
      "source": [
        "#Split the data into train and split\n",
        "\n",
        "from sklearn.model_selection import train_test_split"
      ],
      "execution_count": 2,
      "outputs": []
    },
    {
      "cell_type": "code",
      "metadata": {
        "colab": {
          "base_uri": "https://localhost:8080/",
          "height": 423
        },
        "id": "bCin_KC0yum1",
        "outputId": "57fb3c72-7192-45e9-b3d5-aef044bfe55d"
      },
      "source": [
        "# convert the above train test datasets into a pandas dataframe. You shoud have 4 dataframes.\n",
        "# Name them train_reviews, test_reviews, train_sentiment, test_sentiment.\n",
        "# In train_sentiment and test_sentiment, convert \"positive\" to 1 and \"negative\" to 0\n",
        "import pandas as pd\n",
        "X= reviews.review\n",
        "y = reviews.sentiment\n",
        "X_train,X_test,y_train,y_test=train_test_split(X,y,test_size=0.33)\n",
        "\n",
        "train_reviews = pd.DataFrame(X_train)\n",
        "test_reviews= pd.DataFrame(X_test)\n",
        "train_sentiment  = pd.DataFrame(y_train)\n",
        "test_sentiment = pd.DataFrame(y_test)\n",
        "\n",
        "train_sentiment[train_sentiment == 'positive'] = 1\n",
        "train_sentiment[train_sentiment == 'negative'] = 0\n",
        "test_sentiment[test_sentiment == 'positive'] = 1\n",
        "test_sentiment[test_sentiment == 'negative'] = 0\n",
        "\n",
        "test_sentiment"
      ],
      "execution_count": 3,
      "outputs": [
        {
          "output_type": "execute_result",
          "data": {
            "text/html": [
              "<div>\n",
              "<style scoped>\n",
              "    .dataframe tbody tr th:only-of-type {\n",
              "        vertical-align: middle;\n",
              "    }\n",
              "\n",
              "    .dataframe tbody tr th {\n",
              "        vertical-align: top;\n",
              "    }\n",
              "\n",
              "    .dataframe thead th {\n",
              "        text-align: right;\n",
              "    }\n",
              "</style>\n",
              "<table border=\"1\" class=\"dataframe\">\n",
              "  <thead>\n",
              "    <tr style=\"text-align: right;\">\n",
              "      <th></th>\n",
              "      <th>sentiment</th>\n",
              "    </tr>\n",
              "  </thead>\n",
              "  <tbody>\n",
              "    <tr>\n",
              "      <th>470</th>\n",
              "      <td>0</td>\n",
              "    </tr>\n",
              "    <tr>\n",
              "      <th>133</th>\n",
              "      <td>0</td>\n",
              "    </tr>\n",
              "    <tr>\n",
              "      <th>309</th>\n",
              "      <td>0</td>\n",
              "    </tr>\n",
              "    <tr>\n",
              "      <th>731</th>\n",
              "      <td>0</td>\n",
              "    </tr>\n",
              "    <tr>\n",
              "      <th>100</th>\n",
              "      <td>1</td>\n",
              "    </tr>\n",
              "    <tr>\n",
              "      <th>...</th>\n",
              "      <td>...</td>\n",
              "    </tr>\n",
              "    <tr>\n",
              "      <th>359</th>\n",
              "      <td>0</td>\n",
              "    </tr>\n",
              "    <tr>\n",
              "      <th>46</th>\n",
              "      <td>0</td>\n",
              "    </tr>\n",
              "    <tr>\n",
              "      <th>957</th>\n",
              "      <td>1</td>\n",
              "    </tr>\n",
              "    <tr>\n",
              "      <th>871</th>\n",
              "      <td>1</td>\n",
              "    </tr>\n",
              "    <tr>\n",
              "      <th>934</th>\n",
              "      <td>0</td>\n",
              "    </tr>\n",
              "  </tbody>\n",
              "</table>\n",
              "<p>330 rows × 1 columns</p>\n",
              "</div>"
            ],
            "text/plain": [
              "    sentiment\n",
              "470         0\n",
              "133         0\n",
              "309         0\n",
              "731         0\n",
              "100         1\n",
              "..        ...\n",
              "359         0\n",
              "46          0\n",
              "957         1\n",
              "871         1\n",
              "934         0\n",
              "\n",
              "[330 rows x 1 columns]"
            ]
          },
          "metadata": {},
          "execution_count": 3
        }
      ]
    },
    {
      "cell_type": "code",
      "metadata": {
        "colab": {
          "base_uri": "https://localhost:8080/",
          "height": 206
        },
        "id": "TKl6LMJeyum2",
        "outputId": "4eaedba6-000e-437a-a9eb-a943513d3e07"
      },
      "source": [
        "train_reviews.head()"
      ],
      "execution_count": 4,
      "outputs": [
        {
          "output_type": "execute_result",
          "data": {
            "text/html": [
              "<div>\n",
              "<style scoped>\n",
              "    .dataframe tbody tr th:only-of-type {\n",
              "        vertical-align: middle;\n",
              "    }\n",
              "\n",
              "    .dataframe tbody tr th {\n",
              "        vertical-align: top;\n",
              "    }\n",
              "\n",
              "    .dataframe thead th {\n",
              "        text-align: right;\n",
              "    }\n",
              "</style>\n",
              "<table border=\"1\" class=\"dataframe\">\n",
              "  <thead>\n",
              "    <tr style=\"text-align: right;\">\n",
              "      <th></th>\n",
              "      <th>review</th>\n",
              "    </tr>\n",
              "  </thead>\n",
              "  <tbody>\n",
              "    <tr>\n",
              "      <th>394</th>\n",
              "      <td>Helena Bonham Carter is the center of this mov...</td>\n",
              "    </tr>\n",
              "    <tr>\n",
              "      <th>270</th>\n",
              "      <td>Clifton Webb is one of my favorites. However, ...</td>\n",
              "    </tr>\n",
              "    <tr>\n",
              "      <th>536</th>\n",
              "      <td>What a horrible, horrible film. The worst coll...</td>\n",
              "    </tr>\n",
              "    <tr>\n",
              "      <th>341</th>\n",
              "      <td>Bend it like Beckham is packed with intriguing...</td>\n",
              "    </tr>\n",
              "    <tr>\n",
              "      <th>203</th>\n",
              "      <td>I absolutely love this film. Everything about ...</td>\n",
              "    </tr>\n",
              "  </tbody>\n",
              "</table>\n",
              "</div>"
            ],
            "text/plain": [
              "                                                review\n",
              "394  Helena Bonham Carter is the center of this mov...\n",
              "270  Clifton Webb is one of my favorites. However, ...\n",
              "536  What a horrible, horrible film. The worst coll...\n",
              "341  Bend it like Beckham is packed with intriguing...\n",
              "203  I absolutely love this film. Everything about ..."
            ]
          },
          "metadata": {},
          "execution_count": 4
        }
      ]
    },
    {
      "cell_type": "markdown",
      "metadata": {
        "id": "HYXa1crcyum2"
      },
      "source": [
        "## <font color='#6629b2'>Preparing the data</font>\n",
        "\n",
        "###  <font color='#6629b2'>Tokenization</font>\n",
        "\n",
        "The first preprocessing step is to tokenize each of the reviews into (lowercased) individual words, since the models will encode the reviews at the word level (rather than subword units like characters, for example). For this we'll use [spaCy](https://spacy.io/), which is a fast and extremely user-friendly library that performs various language processing tasks. Once you load a spaCy model for a particular language, you can provide any text as input to the model, e.g. encoder(text) and access its linguistic features."
      ]
    },
    {
      "cell_type": "code",
      "metadata": {
        "id": "fWHn4OgZyum3"
      },
      "source": [
        "'''Lowercase and tokenise all the reviews in train_reviews using spacy'''\n",
        "\n",
        "import spacy\n",
        "encoder = spacy.load('en_core_web_sm')\n",
        "\n",
        "def text_to_tokens(text_seqs):\n",
        "    #complete this function that lowers and tokenizes the reviews\n",
        "\n",
        "\n",
        "train_reviews['Tokenized_Review'] = text_to_tokens(train_reviews['review'])\n",
        "train_reviews[['review','Tokenized_Review']][:10]"
      ],
      "execution_count": null,
      "outputs": []
    },
    {
      "cell_type": "markdown",
      "metadata": {
        "id": "onD8GrHtyum3"
      },
      "source": [
        "###  <font color='#6629b2'>Lexicon</font>"
      ]
    },
    {
      "cell_type": "markdown",
      "metadata": {
        "id": "WXWKAKJQyum3"
      },
      "source": [
        "Then we need to assemble a lexicon (aka vocabulary) of words that the model needs to know. Each tokenized word in the reviews is added to the lexicon, and then each word is mapped to a numerical index that can be read by the model. Since large datasets may contain a huge number of unique words, it's common to filter all words occurring less than a certain number of times, and replace them with some generic &lt;UNK&gt; token. The min_freq parameter in the function below defines this threshold. When assigning the indices, the number 1 will represent unknown words. The number 0 will represent \"empty\" word slots, which is explained below. Therefore \"real\" words will have indices of 2 or higher."
      ]
    },
    {
      "cell_type": "code",
      "metadata": {
        "id": "YOAUehQ5yum4"
      },
      "source": [
        "'''Count tokens (words) in texts and add them to the lexicon'''\n",
        "\n",
        "import pickle\n",
        "\n",
        "def make_lexicon(token_seqs, min_freq=1, use_padding=False):\n",
        "    # First, count how often each word appears in the text. Save this count in a dictionary called token_counts\n",
        "    token_counts = {}\n",
        "    \n",
        "    \n",
        "\n",
        "    # Then, assign each word to a numerical index, i.e save  all these words in a list. Filter words that occur less than or equal to min_freq times.\n",
        "    \n",
        "    lexicon = \n",
        "    \n",
        "    #create a dictionary lexicon that maps each word to its index. Note that indexes will start from 2,  index 0 is saved for padding and index 1 for unknown words ('<UNK>')\n",
        "    lexicon = \n",
        "    \n",
        "    lexicon[u'<UNK>'] = 1 # Unknown words are those that occur fewer than min_freq times\n",
        "    lexicon_size = len(lexicon)\n",
        "    print(lexicon)\n",
        "\n",
        "    print(\"LEXICON SAMPLE ({} total items):\".format(lexicon_size))\n",
        "    print(dict(list(lexicon.items())[:20]))\n",
        "    \n",
        "    return lexicon\n",
        "\n",
        "lexicon = make_lexicon(token_seqs=train_reviews['Tokenized_Review'], min_freq=1)"
      ],
      "execution_count": null,
      "outputs": []
    },
    {
      "cell_type": "markdown",
      "metadata": {
        "id": "ElyBJjkMyum4"
      },
      "source": [
        "###  <font color='#6629b2'>From strings to numbers</font>\n",
        "\n",
        "Once the lexicon is built, we can use it to transform each review from a list of string tokens into a list of numerical indices."
      ]
    },
    {
      "cell_type": "code",
      "metadata": {
        "id": "E2GfT85Ayum4"
      },
      "source": [
        "'''Convert each review from a list of tokens to a list of numbers (indices)'''\n",
        "\n",
        "def tokens_to_idxs(token_seqs, lexicon): \n",
        "    #complete this function to return a list of indexed tokens \n",
        "    idx_seqs = \n",
        "    return idx_seqs\n",
        "\n",
        "train_reviews['Review_Idxs'] = tokens_to_idxs(token_seqs=train_reviews['Tokenized_Review'], lexicon=lexicon)\n",
        "                                   \n",
        "train_reviews[['Tokenized_Review', 'Review_Idxs']][:10]"
      ],
      "execution_count": null,
      "outputs": []
    },
    {
      "cell_type": "code",
      "metadata": {
        "id": "5WQYujIEyum4"
      },
      "source": [
        "'''Encode reviews (train_reviews['Review_Idxs']) as bag-of-words vectors'''\n",
        "\n",
        "import numpy \n",
        "\n",
        "def idx_seqs_to_bows(idx_seqs, matrix_length):\n",
        "    #complete the function to return an array having bag-of-words vectors of the encoded reviews\n",
        "    # hint: numpy.bincount()\n",
        "    bow_seqs = \n",
        "    return bow_seqs\n",
        "    \n",
        "\n",
        "\n",
        "bow_train_reviews = idx_seqs_to_bows(train_reviews['Review_Idxs'], \n",
        "                                     matrix_length=len(lexicon) + 1) #add one to length for padding)\n",
        "\n",
        "print(\"TRAIN INPUT:\\n\", bow_train_reviews)\n",
        "print(\"SHAPE:\", bow_train_reviews.shape, \"\\n\")\n",
        "\n",
        "#Showing an example mapping string words to counts\n",
        "lexicon_lookup = {idx: lexicon_item for lexicon_item, idx in lexicon.items()}\n",
        "lexicon_lookup[0] = \"\"\n",
        "pandas.DataFrame([(lexicon_lookup[idx], count) for idx, count in enumerate(bow_train_reviews[0])], \n",
        "                 columns=['Word', 'Count'])"
      ],
      "execution_count": null,
      "outputs": []
    },
    {
      "cell_type": "markdown",
      "metadata": {
        "id": "yz31PsAHyum5"
      },
      "source": [
        "##  <font color='#6629b2'>Building a Recurrent Neural Network </font>\n",
        "\n",
        "\n",
        "\n",
        "###  <font color='#6629b2'>Numerical lists to matrices</font>\n",
        "\n",
        "The input representation for the RNN explicitly encodes the order of words in the review. We'll return to the lists of the word indices contained in train_reviews['Review_Idxs']. The input to the model will be these number sequences themselves. We need to put all the reviews in the training set into a single matrix, where each row is a review and each column is a word index in that sequence. This enables the model to process multiple sequences in parallel (batches) as opposed to one at a time. Using batches significantly speeds up training. However, each review has a different number of words, so we create a padded matrix equal to the length on the longest review in the training set. For all reviews with fewer words, we prepend the row with zeros representing an empty word position. This is why the number 0 was not assigned as a word index in the lexicon. We can tell Keras to ignore these zeros during training."
      ]
    },
    {
      "cell_type": "code",
      "metadata": {
        "id": "hEezPE8dyum5"
      },
      "source": [
        "from tensorflow.keras.preprocessing.sequence import pad_sequences\n",
        "\n",
        "def pad_idx_seqs(idx_seqs):\n",
        "    \n",
        "    #find the biggest review's length and save it in the variable below\n",
        "    max_seq_len =\n",
        "    \n",
        "    #pad all these indexed reviews and return these padded sequences\n",
        "    #HINT: use pad_sequences function by keras\n",
        "    \n",
        "\n",
        "\n",
        "train_padded_idxs = pad_idx_seqs(train_reviews['Review_Idxs'])\n",
        "\n",
        "print(\"TRAIN INPUT:\\n\", train_padded_idxs)\n",
        "print(\"SHAPE:\", train_padded_idxs.shape, \"\\n\")"
      ],
      "execution_count": null,
      "outputs": []
    },
    {
      "cell_type": "markdown",
      "metadata": {
        "id": "X4xEStjByum5"
      },
      "source": [
        "###  <font color='#6629b2'>Model Layers</font>\n",
        "The RNN will have four layers:\n",
        "\n",
        "**1. Input**: The input layer takes in the matrix of word indices.\n",
        "\n",
        "**2. Embedding**: A [layer](https://keras.io/layers/embeddings/) that converts integer word indices into distributed vector representations (embeddings), which were introduced above. The difference here is that rather than plugging in embeddings from a pretrained model as before, the word embeddings will be learned inside the model itself. Thus, the input to the model will be the word indices rather than their embeddings, and the embedding values will change as the model is trained. The mask_zero=True parameter in this layer indicates that values of 0 in the matrix (the padding) will be ignored by the model.\n",
        "\n",
        "**3. GRU**: A [recurrent (GRU) hidden layer](https://keras.io/layers/recurrent/), the central component of the model. As it observes each word in the review, it integrates the word embedding representation with what it's observed so far to compute a representation (hidden state) of the review at that timepoint. There are a few architectures for this layer - we use the GRU variation, Keras also provides LSTM or just the simple vanilla recurrent layer (see the materials at the bottom for an explanation of the difference). This layer outputs the last hidden state of the sequence (i.e. the hidden representation of the review after its last word is observed).\n",
        "\n",
        "**4. Dense**: An output [layer](https://keras.io/layers/core/#dense) that predicts the rating for the review based on its GRU representation given by the previous layer. It has one dimension that contains a continuous value (the rating). Add a proper activation function.\n",
        "\n",
        "###  <font color='#6629b2'>Parameters</font>\n",
        "\n",
        "Our function for creating the RNN takes the following parameters:\n",
        "\n",
        "**n_input_nodes**: As with the standard bag-of-words MLP, this is the number of unique words in the lexicon, plus one to account for the padding represented by 0 values. This indicates the number of rows in the embedding layer, where each row corresponds to a word.\n",
        "\n",
        "**n_embedding_nodes**: the number of dimensions (units) in the embedding layer, which can be freely defined. Here, it is set to 300.\n",
        "\n",
        "**n_hidden_nodes**: the number of dimensions in the GRU hidden layer. Like the embedding layer, this can be freely chosen. Here, it is set to 500."
      ]
    },
    {
      "cell_type": "code",
      "metadata": {
        "id": "QwMJNGs9yum5"
      },
      "source": [
        "'''Create the model'''\n",
        "\n",
        "import tensorflow as tf\n",
        "from tensorflow.keras import layers\n",
        "from tensorflow.keras import Input, Model\n",
        "from tensorflow.keras.layers import Embedding\n",
        "from tensorflow.keras.layers import GRU, Dense\n",
        "from tensorflow.keras.layers import InputLayer\n",
        "\n",
        "def create_rnn_model(n_input_nodes, n_embedding_nodes, n_hidden_nodes):\n",
        "    \n",
        "    #complete this function to create a model and compile it having the 4 layers listed above.\n",
        "    #Note: Layer 1 -  Technically the shape of this layer is (batch_size, len(train_padded_idxs)).\n",
        "    # However, both the batch size and the length of the input matrix can be inferred from the input at training time. \n",
        "    # The batch size is implicitly included in the shape of the input, so it does not need to \n",
        "    # be specified as a dimension of the input. None can be given as placeholder for the input matrix length.\n",
        "    # By defining it as None, the model is flexible in accepting inputs with different lengths.\n",
        "    input_layer = Input(shape=(None,))\n",
        "    \n",
        "    # Layer 2\n",
        "    \n",
        "    # Layer 3\n",
        "    \n",
        "    # Layer 4\n",
        "    \n",
        "    #Specify which layers are input and output, compile model with loss and optimization functions\n",
        "    \n",
        "    return model\n"
      ],
      "execution_count": null,
      "outputs": []
    },
    {
      "cell_type": "code",
      "metadata": {
        "id": "W9Uc8ENCyum5"
      },
      "source": [
        "rnn_model = create_rnn_model(n_input_nodes=len(lexicon) + 1, n_embedding_nodes=300, n_hidden_nodes=500)"
      ],
      "execution_count": null,
      "outputs": []
    },
    {
      "cell_type": "markdown",
      "metadata": {
        "id": "ya27oTNEyum6"
      },
      "source": [
        "###  <font color='#6629b2'>Training</font>"
      ]
    },
    {
      "cell_type": "code",
      "metadata": {
        "id": "j4f4mHP3yum6"
      },
      "source": [
        "'''\n",
        "Train the rnn_model using the padded sequences and y=train_reviews['Rating'].\n",
        "You need  to convert train_reviews['Rating'] to tensor before passing it as an argument\n",
        "Hint: tf.convert_to_tensor\n",
        "batch_size=20, epochs=5\n",
        "'''\n",
        "\n"
      ],
      "execution_count": null,
      "outputs": []
    },
    {
      "cell_type": "markdown",
      "metadata": {
        "id": "BhGAT-qTyum6"
      },
      "source": [
        "###  <font color='#6629b2'>Prediction</font>"
      ]
    },
    {
      "cell_type": "code",
      "metadata": {
        "id": "5adUvabRyum6"
      },
      "source": [
        "'''Put test reviews in padded matrix just how we did for train_reviews'''\n",
        "\n",
        "\n",
        "print(\"TEST INPUT:\\n\", test_padded_idxs)\n",
        "print(\"SHAPE:\", test_padded_idxs.shape, \"\\n\")"
      ],
      "execution_count": null,
      "outputs": []
    },
    {
      "cell_type": "code",
      "metadata": {
        "id": "_FJEDK1Xyum6"
      },
      "source": [
        "'''Predict the ratings '''\n",
        "\n",
        "#Since ratings are integers, need to round predicted rating to nearest integer\n",
        "test_reviews['RNN_Pred_Rating'] = numpy.round(rnn_model.predict(test_padded_idxs)[:,0]).astype(int)"
      ],
      "execution_count": null,
      "outputs": []
    },
    {
      "cell_type": "markdown",
      "metadata": {
        "id": "pkzeXcO6yum6"
      },
      "source": [
        "###  <font color='#6629b2'>Evaluation</font>"
      ]
    },
    {
      "cell_type": "code",
      "metadata": {
        "id": "GKFQgnziyum6"
      },
      "source": [
        "'''Evaluate the model with R^2'''\n",
        "\n",
        "# print the r2 score\n",
        "from sklearn.metrics import r2_score \n"
      ],
      "execution_count": null,
      "outputs": []
    },
    {
      "cell_type": "markdown",
      "metadata": {
        "id": "blF8Znqpyum6"
      },
      "source": [
        "On the full test dataset of 25,000 reviews, the $R^2$ for this model is 0.622525. So the RNN outperforms the continuous bag-of-words MLP as well as the standard bag-of-words approach.\n",
        "Your score might not be good because we're training on only 100-200 reviews."
      ]
    },
    {
      "cell_type": "markdown",
      "metadata": {
        "id": "5uUnJnJ2yum6"
      },
      "source": [
        "### <font color='#6629b2'>Visualizing data inside the model</font>\n",
        "\n",
        "To help visualize the data representation inside the model, we can look at the output of each layer in a model individually. Keras' Functional API lets you derive a new model with the layers from an existing model, so you can define the output to be a layer below the output layer in the original model. Calling predict() on this new model will produce the output of that layer for a given input. Of course, glancing at the numbers by themselves doesn't provide any interpretation of what the model has learned (although there are opportunities to [interpret these values](https://medium.com/civis-analytics/interpreting-and-visualizing-neural-networks-for-text-processing-e9dff0da9c22), but seeing them verifies the model is just a series of transformations from one matrix to another. The model stores its layers as the list model.layers, and you can retrieve specific layer by its position index in the model."
      ]
    },
    {
      "cell_type": "code",
      "metadata": {
        "id": "srHtCZ86yum7"
      },
      "source": [
        "'''Showing the output of the RNN embedding layer (second layer) for the test reviews'''\n",
        "\n",
        "embedding_layer = Model(inputs=rnn_model.layers[0].input, \n",
        "                        outputs=rnn_model.layers[1].output) #embedding layer is 2nd layer (index 1)\n",
        "embedding_output = embedding_layer.predict(test_padded_idxs)\n",
        "print(\"EMBEDDING LAYER OUTPUT SHAPE:\", embedding_output.shape)\n",
        "print(embedding_output[0])"
      ],
      "execution_count": null,
      "outputs": []
    },
    {
      "cell_type": "markdown",
      "metadata": {
        "id": "j8MEc-Gfyum7"
      },
      "source": [
        "## <font color='#6629b2'>Conclusion</font>\n",
        "\n",
        "As mentioned above, the models shown here could be applied to any task where the goal is to predict a score for a particular sequence. For ratings prediction, this output is ordinal, but it could also be categorical with a few simple changes to the output layer of the model. "
      ]
    },
    {
      "cell_type": "markdown",
      "metadata": {
        "collapsed": true,
        "id": "E-6KhavMyum7"
      },
      "source": [
        "## <font color='#6629b2'>More resources</font>\n",
        "\n",
        "Yoav Goldberg's book [Neural Network Methods for Natural Language Processing](http://www.morganclaypool.com/doi/abs/10.2200/S00762ED1V01Y201703HLT037) is a thorough introduction to neural networks for NLP tasks in general.\n",
        "\n",
        "If you'd like to learn more about what Keras is doing under the hood, there is a [Theano tutorial](http://deeplearning.net/tutorial/lstm.html) that also applies an RNN to sentiment prediction, using the same dataset here\n",
        "\n",
        "Andrej Karpathy's blog post [The Unreasonable Effectiveness of Recurrent Neural Networks](http://karpathy.github.io/2015/05/21/rnn-effectiveness/) is very helpful for understanding the mathematical details of an RNN, applied to the task of language modeling. It also provides raw Python code with an implementation of the backpropagation algorithm.\n",
        "\n",
        "TensorFlow also has an RNN language model [tutorial](https://www.tensorflow.org/versions/r0.12/tutorials/recurrent/index.html) using the Penn Treebank dataset\n",
        "\n",
        "Chris Olah provides a good [explanation](http://colah.github.io/posts/2015-08-Understanding-LSTMs/) of how LSTM RNNs work (this explanation also applies to the GRU model used here)\n",
        "\n",
        "Denny Britz's [tutorial](http://www.wildml.com/2015/09/recurrent-neural-networks-tutorial-part-1-introduction-to-rnns/) documents well both the technical details of RNNs and their implementation in Python."
      ]
    }
  ]
}