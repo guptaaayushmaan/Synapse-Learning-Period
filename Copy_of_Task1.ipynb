{
  "nbformat": 4,
  "nbformat_minor": 0,
  "metadata": {
    "colab": {
      "name": "Copy of Task1.ipynb",
      "provenance": [],
      "collapsed_sections": [
        "V1OdlEqXHzMC",
        "V-eJsxXrTuBJ",
        "63jou6PJaoqp",
        "EQKtPBSSgUpN",
        "Az401HQIi8FR",
        "8KXM4Xe0m-bj"
      ]
    },
    "kernelspec": {
      "name": "python3",
      "display_name": "Python 3"
    },
    "language_info": {
      "name": "python"
    }
  },
  "cells": [
    {
      "cell_type": "markdown",
      "metadata": {
        "id": "C8KlsCFL1tvs"
      },
      "source": [
        "# Task 1\n",
        "#### Week 1 (Learning Period Synapse)\n",
        "###### pandas, numpy, matplotlib"
      ]
    },
    {
      "cell_type": "code",
      "metadata": {
        "colab": {
          "base_uri": "https://localhost:8080/"
        },
        "id": "wcGii-p723dl",
        "outputId": "b6c83d4e-d29f-4906-847b-5bcfaf10c048"
      },
      "source": [
        "from google.colab import drive\n",
        "drive.mount(\"/content/gdrive\")"
      ],
      "execution_count": 8,
      "outputs": [
        {
          "output_type": "stream",
          "name": "stdout",
          "text": [
            "Drive already mounted at /content/gdrive; to attempt to forcibly remount, call drive.mount(\"/content/gdrive\", force_remount=True).\n"
          ]
        }
      ]
    },
    {
      "cell_type": "code",
      "metadata": {
        "id": "m6HJFwYI9U55"
      },
      "source": [
        ""
      ],
      "execution_count": 8,
      "outputs": []
    },
    {
      "cell_type": "markdown",
      "metadata": {
        "id": "2ufinDlF2oH7"
      },
      "source": [
        "## 1. Import pandas, numpy and matplotlib"
      ]
    },
    {
      "cell_type": "code",
      "metadata": {
        "id": "V0KqGm1I2mx6"
      },
      "source": [
        "#write code here\n",
        "import numpy as np\n",
        "import pandas as pd\n",
        "import matplotlib.pyplot as plt"
      ],
      "execution_count": null,
      "outputs": []
    },
    {
      "cell_type": "code",
      "metadata": {
        "id": "P0xumbaX27tR"
      },
      "source": [
        ""
      ],
      "execution_count": null,
      "outputs": []
    },
    {
      "cell_type": "markdown",
      "metadata": {
        "id": "5dFTZvpm28n7"
      },
      "source": [
        "## 2. load the data \n",
        "<br> load the titanic dataset in a pandas dataframe <br> (download dataset from https://www.kaggle.com/c/titanic/data and store it in a folder called <b>\"syanpse_w1\"</b> in the root of your drive) <br>\n",
        "Note that you have to download the train and test csv files seperately"
      ]
    },
    {
      "cell_type": "code",
      "metadata": {
        "id": "mY_Fol-u1qmi"
      },
      "source": [
        "train_path = \"/content/gdrive/My Drive/synapse_w1/train.csv\"\n",
        "test_path = \"/content/gdrive/My Drive/synapse_w1/test.csv\"\n",
        "\n",
        "#write code to load train.csv and test.csv in dataframes\n",
        "train_df = pd.read_csv('/train.csv')\n",
        "test_df = pd.read_csv('/test.csv')"
      ],
      "execution_count": 9,
      "outputs": []
    },
    {
      "cell_type": "code",
      "metadata": {
        "id": "loyfFwFK1s6-",
        "colab": {
          "base_uri": "https://localhost:8080/",
          "height": 345
        },
        "outputId": "244cef8f-3360-40b4-816d-6ff863e09f4b"
      },
      "source": [
        "#write code to show first five data entries of both dataframes\n",
        "train_df.head()"
      ],
      "execution_count": 10,
      "outputs": [
        {
          "output_type": "execute_result",
          "data": {
            "text/html": [
              "<div>\n",
              "<style scoped>\n",
              "    .dataframe tbody tr th:only-of-type {\n",
              "        vertical-align: middle;\n",
              "    }\n",
              "\n",
              "    .dataframe tbody tr th {\n",
              "        vertical-align: top;\n",
              "    }\n",
              "\n",
              "    .dataframe thead th {\n",
              "        text-align: right;\n",
              "    }\n",
              "</style>\n",
              "<table border=\"1\" class=\"dataframe\">\n",
              "  <thead>\n",
              "    <tr style=\"text-align: right;\">\n",
              "      <th></th>\n",
              "      <th>PassengerId</th>\n",
              "      <th>Survived</th>\n",
              "      <th>Pclass</th>\n",
              "      <th>Name</th>\n",
              "      <th>Sex</th>\n",
              "      <th>Age</th>\n",
              "      <th>SibSp</th>\n",
              "      <th>Parch</th>\n",
              "      <th>Ticket</th>\n",
              "      <th>Fare</th>\n",
              "      <th>Cabin</th>\n",
              "      <th>Embarked</th>\n",
              "    </tr>\n",
              "  </thead>\n",
              "  <tbody>\n",
              "    <tr>\n",
              "      <th>0</th>\n",
              "      <td>1</td>\n",
              "      <td>0</td>\n",
              "      <td>3</td>\n",
              "      <td>Braund, Mr. Owen Harris</td>\n",
              "      <td>male</td>\n",
              "      <td>22.0</td>\n",
              "      <td>1</td>\n",
              "      <td>0</td>\n",
              "      <td>A/5 21171</td>\n",
              "      <td>7.2500</td>\n",
              "      <td>NaN</td>\n",
              "      <td>S</td>\n",
              "    </tr>\n",
              "    <tr>\n",
              "      <th>1</th>\n",
              "      <td>2</td>\n",
              "      <td>1</td>\n",
              "      <td>1</td>\n",
              "      <td>Cumings, Mrs. John Bradley (Florence Briggs Th...</td>\n",
              "      <td>female</td>\n",
              "      <td>38.0</td>\n",
              "      <td>1</td>\n",
              "      <td>0</td>\n",
              "      <td>PC 17599</td>\n",
              "      <td>71.2833</td>\n",
              "      <td>C85</td>\n",
              "      <td>C</td>\n",
              "    </tr>\n",
              "    <tr>\n",
              "      <th>2</th>\n",
              "      <td>3</td>\n",
              "      <td>1</td>\n",
              "      <td>3</td>\n",
              "      <td>Heikkinen, Miss. Laina</td>\n",
              "      <td>female</td>\n",
              "      <td>26.0</td>\n",
              "      <td>0</td>\n",
              "      <td>0</td>\n",
              "      <td>STON/O2. 3101282</td>\n",
              "      <td>7.9250</td>\n",
              "      <td>NaN</td>\n",
              "      <td>S</td>\n",
              "    </tr>\n",
              "    <tr>\n",
              "      <th>3</th>\n",
              "      <td>4</td>\n",
              "      <td>1</td>\n",
              "      <td>1</td>\n",
              "      <td>Futrelle, Mrs. Jacques Heath (Lily May Peel)</td>\n",
              "      <td>female</td>\n",
              "      <td>35.0</td>\n",
              "      <td>1</td>\n",
              "      <td>0</td>\n",
              "      <td>113803</td>\n",
              "      <td>53.1000</td>\n",
              "      <td>C123</td>\n",
              "      <td>S</td>\n",
              "    </tr>\n",
              "    <tr>\n",
              "      <th>4</th>\n",
              "      <td>5</td>\n",
              "      <td>0</td>\n",
              "      <td>3</td>\n",
              "      <td>Allen, Mr. William Henry</td>\n",
              "      <td>male</td>\n",
              "      <td>35.0</td>\n",
              "      <td>0</td>\n",
              "      <td>0</td>\n",
              "      <td>373450</td>\n",
              "      <td>8.0500</td>\n",
              "      <td>NaN</td>\n",
              "      <td>S</td>\n",
              "    </tr>\n",
              "  </tbody>\n",
              "</table>\n",
              "</div>"
            ],
            "text/plain": [
              "   PassengerId  Survived  Pclass  ...     Fare Cabin  Embarked\n",
              "0            1         0       3  ...   7.2500   NaN         S\n",
              "1            2         1       1  ...  71.2833   C85         C\n",
              "2            3         1       3  ...   7.9250   NaN         S\n",
              "3            4         1       1  ...  53.1000  C123         S\n",
              "4            5         0       3  ...   8.0500   NaN         S\n",
              "\n",
              "[5 rows x 12 columns]"
            ]
          },
          "metadata": {},
          "execution_count": 10
        }
      ]
    },
    {
      "cell_type": "code",
      "metadata": {
        "id": "d21HPJDrHFOk",
        "colab": {
          "base_uri": "https://localhost:8080/",
          "height": 241
        },
        "outputId": "b4d03143-04b4-4bd1-8a1a-afd7ff2935ef"
      },
      "source": [
        "test_df.head()"
      ],
      "execution_count": 11,
      "outputs": [
        {
          "output_type": "execute_result",
          "data": {
            "text/html": [
              "<div>\n",
              "<style scoped>\n",
              "    .dataframe tbody tr th:only-of-type {\n",
              "        vertical-align: middle;\n",
              "    }\n",
              "\n",
              "    .dataframe tbody tr th {\n",
              "        vertical-align: top;\n",
              "    }\n",
              "\n",
              "    .dataframe thead th {\n",
              "        text-align: right;\n",
              "    }\n",
              "</style>\n",
              "<table border=\"1\" class=\"dataframe\">\n",
              "  <thead>\n",
              "    <tr style=\"text-align: right;\">\n",
              "      <th></th>\n",
              "      <th>PassengerId</th>\n",
              "      <th>Pclass</th>\n",
              "      <th>Name</th>\n",
              "      <th>Sex</th>\n",
              "      <th>Age</th>\n",
              "      <th>SibSp</th>\n",
              "      <th>Parch</th>\n",
              "      <th>Ticket</th>\n",
              "      <th>Fare</th>\n",
              "      <th>Cabin</th>\n",
              "      <th>Embarked</th>\n",
              "    </tr>\n",
              "  </thead>\n",
              "  <tbody>\n",
              "    <tr>\n",
              "      <th>0</th>\n",
              "      <td>892</td>\n",
              "      <td>3</td>\n",
              "      <td>Kelly, Mr. James</td>\n",
              "      <td>male</td>\n",
              "      <td>34.5</td>\n",
              "      <td>0</td>\n",
              "      <td>0</td>\n",
              "      <td>330911</td>\n",
              "      <td>7.8292</td>\n",
              "      <td>NaN</td>\n",
              "      <td>Q</td>\n",
              "    </tr>\n",
              "    <tr>\n",
              "      <th>1</th>\n",
              "      <td>893</td>\n",
              "      <td>3</td>\n",
              "      <td>Wilkes, Mrs. James (Ellen Needs)</td>\n",
              "      <td>female</td>\n",
              "      <td>47.0</td>\n",
              "      <td>1</td>\n",
              "      <td>0</td>\n",
              "      <td>363272</td>\n",
              "      <td>7.0000</td>\n",
              "      <td>NaN</td>\n",
              "      <td>S</td>\n",
              "    </tr>\n",
              "    <tr>\n",
              "      <th>2</th>\n",
              "      <td>894</td>\n",
              "      <td>2</td>\n",
              "      <td>Myles, Mr. Thomas Francis</td>\n",
              "      <td>male</td>\n",
              "      <td>62.0</td>\n",
              "      <td>0</td>\n",
              "      <td>0</td>\n",
              "      <td>240276</td>\n",
              "      <td>9.6875</td>\n",
              "      <td>NaN</td>\n",
              "      <td>Q</td>\n",
              "    </tr>\n",
              "    <tr>\n",
              "      <th>3</th>\n",
              "      <td>895</td>\n",
              "      <td>3</td>\n",
              "      <td>Wirz, Mr. Albert</td>\n",
              "      <td>male</td>\n",
              "      <td>27.0</td>\n",
              "      <td>0</td>\n",
              "      <td>0</td>\n",
              "      <td>315154</td>\n",
              "      <td>8.6625</td>\n",
              "      <td>NaN</td>\n",
              "      <td>S</td>\n",
              "    </tr>\n",
              "    <tr>\n",
              "      <th>4</th>\n",
              "      <td>896</td>\n",
              "      <td>3</td>\n",
              "      <td>Hirvonen, Mrs. Alexander (Helga E Lindqvist)</td>\n",
              "      <td>female</td>\n",
              "      <td>22.0</td>\n",
              "      <td>1</td>\n",
              "      <td>1</td>\n",
              "      <td>3101298</td>\n",
              "      <td>12.2875</td>\n",
              "      <td>NaN</td>\n",
              "      <td>S</td>\n",
              "    </tr>\n",
              "  </tbody>\n",
              "</table>\n",
              "</div>"
            ],
            "text/plain": [
              "   PassengerId  Pclass  ... Cabin Embarked\n",
              "0          892       3  ...   NaN        Q\n",
              "1          893       3  ...   NaN        S\n",
              "2          894       2  ...   NaN        Q\n",
              "3          895       3  ...   NaN        S\n",
              "4          896       3  ...   NaN        S\n",
              "\n",
              "[5 rows x 11 columns]"
            ]
          },
          "metadata": {},
          "execution_count": 11
        }
      ]
    },
    {
      "cell_type": "markdown",
      "metadata": {
        "id": "eAe9H4ub-9TB"
      },
      "source": [
        "## 3. Exploratory Data Analysis\n",
        "Exploratory data analysis is a very important part of ML as it helps you understand the data you are dealing with <br>\n",
        "<br>\n",
        "(we will be working on the train dataframe in this task)"
      ]
    },
    {
      "cell_type": "markdown",
      "metadata": {
        "id": "7n5NzvIOAH1G"
      },
      "source": [
        "### 3.a. overview of the dataset"
      ]
    },
    {
      "cell_type": "markdown",
      "metadata": {
        "id": "dIl7EiGEBjPL"
      },
      "source": [
        " - write code to list the columns in your dataframe (each column on new line as visibility is important)"
      ]
    },
    {
      "cell_type": "code",
      "metadata": {
        "id": "jgGpmmk4BNpf",
        "colab": {
          "base_uri": "https://localhost:8080/"
        },
        "outputId": "5d6a3432-ed04-4e8e-b7c5-9d0d66b7e0e3"
      },
      "source": [
        "#write code here\n",
        "for col in train_df.columns:\n",
        "  print (col)"
      ],
      "execution_count": 13,
      "outputs": [
        {
          "output_type": "stream",
          "name": "stdout",
          "text": [
            "PassengerId\n",
            "Survived\n",
            "Pclass\n",
            "Name\n",
            "Sex\n",
            "Age\n",
            "SibSp\n",
            "Parch\n",
            "Ticket\n",
            "Fare\n",
            "Cabin\n",
            "Embarked\n"
          ]
        }
      ]
    },
    {
      "cell_type": "markdown",
      "metadata": {
        "id": "BbtlcScEBkwG"
      },
      "source": [
        " - write a function that returns the number of rows and columns in the dataset "
      ]
    },
    {
      "cell_type": "code",
      "metadata": {
        "id": "huYZDIdW87BM",
        "colab": {
          "base_uri": "https://localhost:8080/"
        },
        "outputId": "9a5a77f1-c7e4-43eb-fae7-5a760998bf38"
      },
      "source": [
        "#write code here (print values as well)\n",
        "train_df.shape"
      ],
      "execution_count": 15,
      "outputs": [
        {
          "output_type": "execute_result",
          "data": {
            "text/plain": [
              "(891, 12)"
            ]
          },
          "metadata": {},
          "execution_count": 15
        }
      ]
    },
    {
      "cell_type": "markdown",
      "metadata": {
        "id": "tFWvBxGvCR5M"
      },
      "source": [
        " - use the info() method of pandas dataframe to print the info related to the dataframe"
      ]
    },
    {
      "cell_type": "code",
      "metadata": {
        "id": "oDGygTjuAhtf",
        "colab": {
          "base_uri": "https://localhost:8080/"
        },
        "outputId": "7a4e6735-a000-45bf-b6ca-e76944e7240f"
      },
      "source": [
        "# write code here\n",
        "train_df.info()"
      ],
      "execution_count": 16,
      "outputs": [
        {
          "output_type": "stream",
          "name": "stdout",
          "text": [
            "<class 'pandas.core.frame.DataFrame'>\n",
            "RangeIndex: 891 entries, 0 to 890\n",
            "Data columns (total 12 columns):\n",
            " #   Column       Non-Null Count  Dtype  \n",
            "---  ------       --------------  -----  \n",
            " 0   PassengerId  891 non-null    int64  \n",
            " 1   Survived     891 non-null    int64  \n",
            " 2   Pclass       891 non-null    int64  \n",
            " 3   Name         891 non-null    object \n",
            " 4   Sex          891 non-null    object \n",
            " 5   Age          714 non-null    float64\n",
            " 6   SibSp        891 non-null    int64  \n",
            " 7   Parch        891 non-null    int64  \n",
            " 8   Ticket       891 non-null    object \n",
            " 9   Fare         891 non-null    float64\n",
            " 10  Cabin        204 non-null    object \n",
            " 11  Embarked     889 non-null    object \n",
            "dtypes: float64(2), int64(5), object(5)\n",
            "memory usage: 83.7+ KB\n"
          ]
        }
      ]
    },
    {
      "cell_type": "markdown",
      "metadata": {
        "id": "JtEy2fQuCfic"
      },
      "source": [
        " - use the describe() method of pandas dataframe to print the statistical description of the dataset"
      ]
    },
    {
      "cell_type": "code",
      "metadata": {
        "id": "HmAzuSpcCfAC",
        "colab": {
          "base_uri": "https://localhost:8080/",
          "height": 300
        },
        "outputId": "21aa8f9a-d385-499e-fb28-d715622f4ba8"
      },
      "source": [
        "#write code here\n",
        "train_df.describe()"
      ],
      "execution_count": 17,
      "outputs": [
        {
          "output_type": "execute_result",
          "data": {
            "text/html": [
              "<div>\n",
              "<style scoped>\n",
              "    .dataframe tbody tr th:only-of-type {\n",
              "        vertical-align: middle;\n",
              "    }\n",
              "\n",
              "    .dataframe tbody tr th {\n",
              "        vertical-align: top;\n",
              "    }\n",
              "\n",
              "    .dataframe thead th {\n",
              "        text-align: right;\n",
              "    }\n",
              "</style>\n",
              "<table border=\"1\" class=\"dataframe\">\n",
              "  <thead>\n",
              "    <tr style=\"text-align: right;\">\n",
              "      <th></th>\n",
              "      <th>PassengerId</th>\n",
              "      <th>Survived</th>\n",
              "      <th>Pclass</th>\n",
              "      <th>Age</th>\n",
              "      <th>SibSp</th>\n",
              "      <th>Parch</th>\n",
              "      <th>Fare</th>\n",
              "    </tr>\n",
              "  </thead>\n",
              "  <tbody>\n",
              "    <tr>\n",
              "      <th>count</th>\n",
              "      <td>891.000000</td>\n",
              "      <td>891.000000</td>\n",
              "      <td>891.000000</td>\n",
              "      <td>714.000000</td>\n",
              "      <td>891.000000</td>\n",
              "      <td>891.000000</td>\n",
              "      <td>891.000000</td>\n",
              "    </tr>\n",
              "    <tr>\n",
              "      <th>mean</th>\n",
              "      <td>446.000000</td>\n",
              "      <td>0.383838</td>\n",
              "      <td>2.308642</td>\n",
              "      <td>29.699118</td>\n",
              "      <td>0.523008</td>\n",
              "      <td>0.381594</td>\n",
              "      <td>32.204208</td>\n",
              "    </tr>\n",
              "    <tr>\n",
              "      <th>std</th>\n",
              "      <td>257.353842</td>\n",
              "      <td>0.486592</td>\n",
              "      <td>0.836071</td>\n",
              "      <td>14.526497</td>\n",
              "      <td>1.102743</td>\n",
              "      <td>0.806057</td>\n",
              "      <td>49.693429</td>\n",
              "    </tr>\n",
              "    <tr>\n",
              "      <th>min</th>\n",
              "      <td>1.000000</td>\n",
              "      <td>0.000000</td>\n",
              "      <td>1.000000</td>\n",
              "      <td>0.420000</td>\n",
              "      <td>0.000000</td>\n",
              "      <td>0.000000</td>\n",
              "      <td>0.000000</td>\n",
              "    </tr>\n",
              "    <tr>\n",
              "      <th>25%</th>\n",
              "      <td>223.500000</td>\n",
              "      <td>0.000000</td>\n",
              "      <td>2.000000</td>\n",
              "      <td>20.125000</td>\n",
              "      <td>0.000000</td>\n",
              "      <td>0.000000</td>\n",
              "      <td>7.910400</td>\n",
              "    </tr>\n",
              "    <tr>\n",
              "      <th>50%</th>\n",
              "      <td>446.000000</td>\n",
              "      <td>0.000000</td>\n",
              "      <td>3.000000</td>\n",
              "      <td>28.000000</td>\n",
              "      <td>0.000000</td>\n",
              "      <td>0.000000</td>\n",
              "      <td>14.454200</td>\n",
              "    </tr>\n",
              "    <tr>\n",
              "      <th>75%</th>\n",
              "      <td>668.500000</td>\n",
              "      <td>1.000000</td>\n",
              "      <td>3.000000</td>\n",
              "      <td>38.000000</td>\n",
              "      <td>1.000000</td>\n",
              "      <td>0.000000</td>\n",
              "      <td>31.000000</td>\n",
              "    </tr>\n",
              "    <tr>\n",
              "      <th>max</th>\n",
              "      <td>891.000000</td>\n",
              "      <td>1.000000</td>\n",
              "      <td>3.000000</td>\n",
              "      <td>80.000000</td>\n",
              "      <td>8.000000</td>\n",
              "      <td>6.000000</td>\n",
              "      <td>512.329200</td>\n",
              "    </tr>\n",
              "  </tbody>\n",
              "</table>\n",
              "</div>"
            ],
            "text/plain": [
              "       PassengerId    Survived      Pclass  ...       SibSp       Parch        Fare\n",
              "count   891.000000  891.000000  891.000000  ...  891.000000  891.000000  891.000000\n",
              "mean    446.000000    0.383838    2.308642  ...    0.523008    0.381594   32.204208\n",
              "std     257.353842    0.486592    0.836071  ...    1.102743    0.806057   49.693429\n",
              "min       1.000000    0.000000    1.000000  ...    0.000000    0.000000    0.000000\n",
              "25%     223.500000    0.000000    2.000000  ...    0.000000    0.000000    7.910400\n",
              "50%     446.000000    0.000000    3.000000  ...    0.000000    0.000000   14.454200\n",
              "75%     668.500000    1.000000    3.000000  ...    1.000000    0.000000   31.000000\n",
              "max     891.000000    1.000000    3.000000  ...    8.000000    6.000000  512.329200\n",
              "\n",
              "[8 rows x 7 columns]"
            ]
          },
          "metadata": {},
          "execution_count": 17
        }
      ]
    },
    {
      "cell_type": "markdown",
      "metadata": {
        "id": "A9e7GcsJC_ww"
      },
      "source": [
        " - Find all columns that have unique values. (example : the Gender column has 2 unique values Male and Female) <br>\n",
        "\n",
        " - if the columns have finite unique values, then add them in a dictionary of lists and print it <br>\n",
        "<br>\n",
        "dictionary should look like : <br>\n",
        "<t>{<br>&nbsp;&nbsp; \"Gender\" : [\"Male\", \"Female\"],<br>&nbsp;&nbsp; \"Col2\" : [\"unique1\", \"unique2\"],<br>&nbsp;&nbsp;&nbsp;&nbsp;.<br>&nbsp;&nbsp;&nbsp;&nbsp;.<br>&nbsp;&nbsp;&nbsp;&nbsp;.<br>}"
      ]
    },
    {
      "cell_type": "code",
      "metadata": {
        "id": "SvWOT_pKDbdu",
        "colab": {
          "base_uri": "https://localhost:8080/"
        },
        "outputId": "8890a3dd-7047-44c2-b5e5-fa37287e2371"
      },
      "source": [
        "#write code here\n",
        "train_df['Embarked'].unique()"
      ],
      "execution_count": 19,
      "outputs": [
        {
          "output_type": "execute_result",
          "data": {
            "text/plain": [
              "array(['S', 'C', 'Q', nan], dtype=object)"
            ]
          },
          "metadata": {},
          "execution_count": 19
        }
      ]
    },
    {
      "cell_type": "code",
      "metadata": {
        "id": "CBMXRkJTHyWL"
      },
      "source": [
        ""
      ],
      "execution_count": null,
      "outputs": []
    },
    {
      "cell_type": "markdown",
      "metadata": {
        "id": "V1OdlEqXHzMC"
      },
      "source": [
        "### 3.b. Visualizing hidden Details"
      ]
    },
    {
      "cell_type": "markdown",
      "metadata": {
        "id": "De37jtciIY7F"
      },
      "source": [
        "##### Aim is to find relationship between Title and Survival rate\n",
        "- print the <b>name</b> column of the data<br>\n",
        "- notice that the word after the first comma encapsulates the title of the person (Mr., Mrs, etc)\n",
        "- extract the title using regular expression (help given below in the code)\n",
        "- store the title in a new column in the dataframe. Name the column : <b>Title</b>"
      ]
    },
    {
      "cell_type": "code",
      "metadata": {
        "id": "URnLEQP-EsXA"
      },
      "source": [
        "#write code here (for regex help refer next code cell)"
      ],
      "execution_count": null,
      "outputs": []
    },
    {
      "cell_type": "code",
      "metadata": {
        "colab": {
          "base_uri": "https://localhost:8080/"
        },
        "id": "X62p2RoZIp6U",
        "outputId": "4d8f881f-c018-4ca4-fae1-f1dc83cc30b0"
      },
      "source": [
        "#regex example\n",
        "import re\n",
        "\n",
        "name_eg = \"Petranec, Miss. Matilda\"\n",
        "title_search = re.search('(\\w+)\\.', name_eg) #the first argument is a pattern that we are looking for\n",
        "print(\"result:\", title_search) #this is the result we get after looking for the pattern\n",
        "if title_search:\n",
        "  print(\"pattern found\") #pattern found printed if a pattern like above is found\n",
        "  title = title_search.group(1) #extracting the pattern found by regular expression (title here)\n",
        "  print(\"title:\", title) "
      ],
      "execution_count": null,
      "outputs": [
        {
          "output_type": "stream",
          "name": "stdout",
          "text": [
            "result: <re.Match object; span=(10, 15), match='Miss.'>\n",
            "pattern found\n",
            "title: Miss\n"
          ]
        }
      ]
    },
    {
      "cell_type": "code",
      "metadata": {
        "id": "5ZMsfu5HKYbU"
      },
      "source": [
        "#show the new dataframe with \"Title\" column here"
      ],
      "execution_count": null,
      "outputs": []
    },
    {
      "cell_type": "code",
      "metadata": {
        "id": "bLHjnfQ3O7Nf"
      },
      "source": [
        ""
      ],
      "execution_count": null,
      "outputs": []
    },
    {
      "cell_type": "markdown",
      "metadata": {
        "id": "xQBmJI2eM5KT"
      },
      "source": [
        "- write code to get unique values from the title column\n",
        "- use the unique titles to find the number of people who survived (1) and number of people who did not (0) for each title. <b>num_survived/total</b> will give the survival rate for that title\n",
        "- make a new dataframe called <b>SR_df</b> and add the survival rates corresponding to titles in it<br><br>\n",
        "you may write a function for the above.<br><br>\n",
        "expected output : <br>\n",
        "Mr &nbsp;&nbsp; 0.679392<br>\n",
        "Capt &nbsp;&nbsp; 0.1245<br>\n",
        "&nbsp;&nbsp;.<br>\n",
        "&nbsp;&nbsp;.<br>\n",
        "&nbsp;&nbsp;.<br>\n"
      ]
    },
    {
      "cell_type": "code",
      "metadata": {
        "id": "HYHZxu-YO-NJ"
      },
      "source": [
        "#write code here"
      ],
      "execution_count": null,
      "outputs": []
    },
    {
      "cell_type": "code",
      "metadata": {
        "id": "eftv29NFPJzr"
      },
      "source": [
        "#show the new dataframe SR_df here"
      ],
      "execution_count": null,
      "outputs": []
    },
    {
      "cell_type": "code",
      "metadata": {
        "id": "cxczSuKiPr5u"
      },
      "source": [
        ""
      ],
      "execution_count": null,
      "outputs": []
    },
    {
      "cell_type": "markdown",
      "metadata": {
        "id": "Olnh97qqO-tZ"
      },
      "source": [
        "- use SR_df to plot a bar graph for survival rate vs Title"
      ]
    },
    {
      "cell_type": "code",
      "metadata": {
        "id": "QYmrVku9MPdT"
      },
      "source": [
        "#write code here"
      ],
      "execution_count": null,
      "outputs": []
    },
    {
      "cell_type": "markdown",
      "metadata": {
        "id": "xrIVW_mHQPJX"
      },
      "source": [
        "This brings us to the end of EDA. <br>\n",
        "You may feel free to do more exploratry analysis.<br>\n",
        "The aim of this notebook is not to point out every small detail but to give you an overview and guide you"
      ]
    },
    {
      "cell_type": "code",
      "metadata": {
        "id": "qzpcPY_vRfNM"
      },
      "source": [
        ""
      ],
      "execution_count": null,
      "outputs": []
    },
    {
      "cell_type": "markdown",
      "metadata": {
        "id": "2tImb-hXsXmI"
      },
      "source": [
        "## 4. Data Visualization"
      ]
    },
    {
      "cell_type": "markdown",
      "metadata": {
        "id": "ah1dARlJsddI"
      },
      "source": [
        "- Make a pie chart to show the number of people who survived and number of people who did not\n",
        "- Make a pie chart to show the number of <b>Males</b> who survived and number of people who did not\n",
        "- Make a pie chart to show the number of <b>Females</b> who survived and number of people who did not\n",
        "<br><br>\n",
        "Note that all three charts must be visible in a single row (look into subplots)"
      ]
    },
    {
      "cell_type": "code",
      "metadata": {
        "id": "gaZyWEN5sXP6"
      },
      "source": [
        "#write code here"
      ],
      "execution_count": null,
      "outputs": []
    },
    {
      "cell_type": "markdown",
      "metadata": {
        "id": "uYSmxfqEsjGo"
      },
      "source": [
        "- Find if money affected survival rate (fare and Pclass) \n",
        " - Make a bar graph showing Pclass vs survival rate\n",
        " - Make a KDE plot (use the sns library) and plot Fare based on the Survival (google away for this one)"
      ]
    },
    {
      "cell_type": "code",
      "metadata": {
        "id": "l3YP8H18si4G"
      },
      "source": [
        "#write code here"
      ],
      "execution_count": null,
      "outputs": []
    },
    {
      "cell_type": "code",
      "metadata": {
        "id": "ekU_aa0Wsn6T"
      },
      "source": [
        ""
      ],
      "execution_count": null,
      "outputs": []
    },
    {
      "cell_type": "markdown",
      "metadata": {
        "id": "NzSBvjqdRfiM"
      },
      "source": [
        "## 5. Preprocessing\n",
        "preprocessing is a very important step before we step into modelling"
      ]
    },
    {
      "cell_type": "markdown",
      "metadata": {
        "id": "1_HLgWAZTD-2"
      },
      "source": [
        " - when we added the Title column in the datadframe, we did preprocessing on the existing data to extract relevant information. As we also tried to explore and understand the data using survival rate, we saw it under EDA."
      ]
    },
    {
      "cell_type": "markdown",
      "metadata": {
        "id": "V-eJsxXrTuBJ"
      },
      "source": [
        "### 5.a. Removing unnecessary columns"
      ]
    },
    {
      "cell_type": "markdown",
      "metadata": {
        "id": "ij1QOguUT7nO"
      },
      "source": [
        " - The columns PassengerId and Ticket play no logical role in being related to the survival of a passenger. Hence we will remove them.\n",
        " - We will also remove the Name column as we have done <b>feature extraction</b> and obtained titles instead. (test set might have extra titles which are not in the train set. Think about how we would consider them. This however doesn't affect task 1's objective)"
      ]
    },
    {
      "cell_type": "code",
      "metadata": {
        "id": "lpLKo4YgMSKA"
      },
      "source": [
        "#write code to remove unnecessary columns from the dataframe here"
      ],
      "execution_count": null,
      "outputs": []
    },
    {
      "cell_type": "code",
      "metadata": {
        "id": "IwARq2gEaoYK"
      },
      "source": [
        ""
      ],
      "execution_count": null,
      "outputs": []
    },
    {
      "cell_type": "markdown",
      "metadata": {
        "id": "63jou6PJaoqp"
      },
      "source": [
        "### 5.b. Nan analysis"
      ]
    },
    {
      "cell_type": "markdown",
      "metadata": {
        "id": "qh6_TT42ay-x"
      },
      "source": [
        " - write code to find the percentage of Nans in each column and visualize it in a tabular format"
      ]
    },
    {
      "cell_type": "code",
      "metadata": {
        "id": "F0V-qmTDUMAx"
      },
      "source": [
        "#write code here"
      ],
      "execution_count": null,
      "outputs": []
    },
    {
      "cell_type": "markdown",
      "metadata": {
        "id": "2mqclVHla_ey"
      },
      "source": [
        " - remove any column having more than 50% Nans as they would be of no use"
      ]
    },
    {
      "cell_type": "code",
      "metadata": {
        "id": "wN6LpxsKa-Zi"
      },
      "source": [
        "#write code here"
      ],
      "execution_count": null,
      "outputs": []
    },
    {
      "cell_type": "markdown",
      "metadata": {
        "id": "YfPIbLBkbU8C"
      },
      "source": [
        " - Fill Nans in the Embark column with the statistical mode\n",
        " - Fill Nans in the Age column with it's statistical mean"
      ]
    },
    {
      "cell_type": "code",
      "metadata": {
        "id": "ht5Uxpb6a9SA"
      },
      "source": [
        "#write code here"
      ],
      "execution_count": null,
      "outputs": []
    },
    {
      "cell_type": "markdown",
      "metadata": {
        "id": "ldZ-7Knyc7r1"
      },
      "source": [
        " - show the new Nan percentage vs column name table after filling and removing to make sure there are no Nans"
      ]
    },
    {
      "cell_type": "code",
      "metadata": {
        "id": "qalNu0Gvc6ih"
      },
      "source": [
        "#write code here"
      ],
      "execution_count": null,
      "outputs": []
    },
    {
      "cell_type": "code",
      "metadata": {
        "id": "_aeWd33AepZi"
      },
      "source": [
        ""
      ],
      "execution_count": null,
      "outputs": []
    },
    {
      "cell_type": "markdown",
      "metadata": {
        "id": "EQKtPBSSgUpN"
      },
      "source": [
        "### 5.c. Adding features to the dataset"
      ]
    },
    {
      "cell_type": "markdown",
      "metadata": {
        "id": "daJuxRs4gcH9"
      },
      "source": [
        " - Read the kaggle link (titanic dataset) provided above and see what the two columns SibSP and Parch signify\n",
        " - Using that create a new column called <B>Family_members</b>\n",
        " - Fill it with the sum of SibSP and Parch"
      ]
    },
    {
      "cell_type": "code",
      "metadata": {
        "id": "IZF7_Jfagbd_"
      },
      "source": [
        "#write code here"
      ],
      "execution_count": null,
      "outputs": []
    },
    {
      "cell_type": "markdown",
      "metadata": {
        "id": "1jrABHyphdWg"
      },
      "source": [
        " - Now you may remove the two columns SibSP and Parch<br>\n",
        " It is important to remove them because they introduce multicollinearity in our dataset now as the new column Family_members is directly dependent on them.<br>\n",
        " Multicollinearity is deadly to linear models that we will look into later"
      ]
    },
    {
      "cell_type": "code",
      "metadata": {
        "id": "aPf3p6WChc3g"
      },
      "source": [
        "#write code here"
      ],
      "execution_count": null,
      "outputs": []
    },
    {
      "cell_type": "code",
      "metadata": {
        "id": "ZoC97Umai-vg"
      },
      "source": [
        ""
      ],
      "execution_count": null,
      "outputs": []
    },
    {
      "cell_type": "markdown",
      "metadata": {
        "id": "Az401HQIi8FR"
      },
      "source": [
        "### 5.d. Scaling and Normalization\n",
        "we don't want to give undue advantage to a few columns (when training models), just because they have a numeric data that is larger in magnitude.<br>\n",
        "Therefore we scale all values down to a specific range or distribution\n",
        "<br>"
      ]
    },
    {
      "cell_type": "markdown",
      "metadata": {
        "id": "8uXii3c6jx-4"
      },
      "source": [
        " - Columns to apply scaling on\n",
        "  - Age\n",
        "  - Fare\n",
        "  - Family_members\n",
        "\n",
        "- Although Pclass column is numeric, it contains classification data (only 1, 2 and 3). Therefore only continuous data like age, fare, etc needs to be normalized"
      ]
    },
    {
      "cell_type": "markdown",
      "metadata": {
        "id": "NwDqNCcrlYtR"
      },
      "source": [
        " - Read about standardization and normalization in this link https://www.geeksforgeeks.org/normalization-vs-standardization/\n",
        " - apply the formulas given in the link above and scale/normalize the features that are supposed to be scaled\n",
        " - It is your choice to choose wether you choose to normalize or standardize a column. You will be able to make your choice after reading the link contents.\n",
        " - If you feel confused with the choice, then you can go ahead and directly normalize."
      ]
    },
    {
      "cell_type": "code",
      "metadata": {
        "id": "9LzoSA42h_wv"
      },
      "source": [
        "#write code here to normalize data"
      ],
      "execution_count": null,
      "outputs": []
    },
    {
      "cell_type": "code",
      "metadata": {
        "id": "C88SQvKkm-r8"
      },
      "source": [
        ""
      ],
      "execution_count": null,
      "outputs": []
    },
    {
      "cell_type": "markdown",
      "metadata": {
        "id": "8KXM4Xe0m-bj"
      },
      "source": [
        "### 5.e. One hot encoding\n",
        "Machine Learning models do not understand strings <br>\n",
        "They understand numbers<br>\n",
        "That is one of the reasons why we one hot encode few columns<br>\n",
        "\n",
        "- refer this link for more information : https://datagy.io/pandas-get-dummies/\n",
        "- you can use this or directly look into pandas get_dummies() method to implement this"
      ]
    },
    {
      "cell_type": "markdown",
      "metadata": {
        "id": "1IIsD-KcpVBc"
      },
      "source": [
        "- columns to apply one_hot encoding on\n",
        " - Pclass\n",
        " - Sex\n",
        " - Title\n",
        " - Embarked\n"
      ]
    },
    {
      "cell_type": "code",
      "metadata": {
        "id": "Y60WNgwLjrmn"
      },
      "source": [
        "#write code here"
      ],
      "execution_count": null,
      "outputs": []
    },
    {
      "cell_type": "code",
      "metadata": {
        "id": "r4wogy53paiL"
      },
      "source": [
        "#show the final dataframe here"
      ],
      "execution_count": null,
      "outputs": []
    },
    {
      "cell_type": "markdown",
      "metadata": {
        "id": "QhGsnsY4puYz"
      },
      "source": [
        "End of Preprocessing"
      ]
    },
    {
      "cell_type": "code",
      "metadata": {
        "id": "Wa1zcX8_pyk5"
      },
      "source": [
        ""
      ],
      "execution_count": null,
      "outputs": []
    }
  ]
}